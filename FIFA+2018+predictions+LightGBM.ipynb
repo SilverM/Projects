{
 "cells": [
  {
   "cell_type": "markdown",
   "metadata": {},
   "source": [
    "**Predicting FIFA 2018 Winner**\n",
    "\n",
    " **Method**:\n",
    "- Use data from Kaggle to model the outcome of certain pairings between teams, given their rank, points, and the weighted point difference with the opponent.\n",
    "- Use this model to predict the outcome of the group rounds and then the single-elimination phase\n",
    "- Compare results with the countries' talent scores\n",
    "\n",
    "The analysis can be split into 3 portions:\n",
    "\n",
    "* Firstly, we will use logistic regression to predict which countries make it to the single elimination round, and subsequently win the world cup.\n",
    ">(Reference to [Dr. James Bond's predictive model](https://www.kaggle.com/agostontorok/soccer-world-cup-2018-winner))\n",
    "* Secondly, we will use the talent scores of countries to better support the results of the finals matchup.\n",
    "* Thirdly, we will predict the actual scores of the finals matchup and 2nd runner up matchup.\n",
    "\n",
    "**Predicted FIFA 2018 winner : Germany**\n",
    "\n",
    "***Takeaways:***\n",
    "\n",
    "Overlaying the output with the matchup predictions, we have 3 key observations:\n",
    "1.  The logistic regression model coupled with the talent visualization shows that of the 16 top overall talent countries,   11/16 of countries will make it through to the single elimination rounds. \n",
    "> While this is inconclusive, it does give an indication that the talent pool available is probably an important factor to a country's perfomance at FIFA. \n",
    "> The format of FIFA ensures that not all 16 of the top talent pool countries will make it through to the elimination stages with ease, there are multiple points of upset even before FIFA begins. For example, Italy was previously ousted due to losing to Sweden in the 2nd round playoff in Nov 2017, despite having one of the best talents.\n",
    "2. There are multiple matches with almost 50/50 chance for either side to win, this implies that the model is unable to predict with high confidence of some matchups and will need to be tweaked as the results unfold. **(this is what makes it interesting to watch isn't it)**,\n",
    "> In the quarterfinals matchup, Argentina vs Portugal, only 1 team will make it to the finals with the top 2 players by overall ratings (Ronaldo & Messi) leading on each side. Interestingly, the winning chances of Portugal is only by 0.01.\n",
    "3. In the Finals matchup between Belgium and Germany, there is a substantially higher overall talent score for Germany (82.58) as compared to Belgium(79.2), even if Belgium were to maximize it's potential, it will only hit a score of 81.7 (which is still below Germany's overall score). Hence, unless there is significant environmental influence, both the predictive model & talent assessment results indicate Germany as the champions of FIFA 2018."
   ]
  },
  {
   "cell_type": "markdown",
   "metadata": {},
   "source": [
    "**Data Used**\n",
    "\n",
    "I used 4 datasets\n",
    "- FIFA rankings from 1993 to 2018 (courtesy of [Tadhg Fitzgerald](https://www.kaggle.com/tadhgfitzgerald) \n",
    "> This one I used to get the FIFA ranking and points for the teams, which is a monthly changing rank previously shown as a [decent predictor](http://www.sportingintelligence.com/2014/06/20/upsets-giant-killings-adios-bye-bye-fifa-rankings-still-ahead-in-predicting-results-200601/) of team performance\n",
    "- International Soccer matches from 1872 to 2018 (courtesy of [Mart Jürisoo](https://www.kaggle.com/martj42))\n",
    "> This I will use to find out how much the difference in point, ranks and the current rank of the team affects the outocme of a match\n",
    "- FIFA World Cup 2018 data set (courtesy of [Nuggs](https://www.kaggle.com/ahmedelnaggar))\n",
    "> This I will use to get the upcoming matches \n",
    "- Complete FIFA 2017 Player dataset (Global) (https://www.kaggle.com/artimous/complete-fifa-2017-player-dataset-global)\n",
    "> Aggregating countries top players value & strength"
   ]
  },
  {
   "cell_type": "code",
   "execution_count": 25,
   "metadata": {
    "collapsed": true
   },
   "outputs": [],
   "source": [
    "import numpy as np # linear algebra\n",
    "import pandas as pd # data processing, CSV file I/O (e.g. pd.read_csv)\n",
    "from matplotlib import pyplot as plt\n",
    "\n",
    "rankings = pd.read_csv('/Users/soonleqi/Downloads/fifa_ranking.csv')\n",
    "rankings = rankings.loc[:,['rank', 'country_full', 'country_abrv', 'cur_year_avg_weighted', 'rank_date', \n",
    "                           'two_year_ago_weighted', 'three_year_ago_weighted']]\n",
    "rankings = rankings.replace({\"IR Iran\": \"Iran\"})\n",
    "rankings['weighted_points'] =  rankings['cur_year_avg_weighted'] + rankings['two_year_ago_weighted'] + rankings['three_year_ago_weighted']\n",
    "rankings['rank_date'] = pd.to_datetime(rankings['rank_date'])\n",
    "\n",
    "matches = pd.read_csv('/Users/soonleqi/Downloads/results.csv')\n",
    "matches =  matches.replace({'Germany DR': 'Germany', 'China': 'China PR'})\n",
    "matches['date'] = pd.to_datetime(matches['date'])\n",
    "\n",
    "world_cup = pd.read_csv('/Users/soonleqi/Downloads/World Cup 2018 Dataset.csv')\n",
    "world_cup = world_cup.loc[:, ['Team', 'Group', 'First match \\nagainst', 'Second match\\n against', 'Third match\\n against']]\n",
    "world_cup = world_cup.dropna(how='all')\n",
    "world_cup = world_cup.replace({\"IRAN\": \"Iran\", \n",
    "                               \"Costarica\": \"Costa Rica\", \n",
    "                               \"Porugal\": \"Portugal\", \n",
    "                               \"Columbia\": \"Colombia\", \n",
    "                               \"Korea\" : \"Korea Republic\"})\n",
    "world_cup = world_cup.set_index('Team')"
   ]
  },
  {
   "cell_type": "markdown",
   "metadata": {},
   "source": [
    "**Feature Extraction**\n",
    "\n",
    "Rank data are combined with the day matches are played:\n",
    "\n",
    "Then extract some features:\n",
    "- Point and rank differences\n",
    "- Friendly matches are removed, assumption being friendly is not reflective of final results in fifa, which is competitive in nature."
   ]
  },
  {
   "cell_type": "code",
   "execution_count": 26,
   "metadata": {
    "collapsed": true
   },
   "outputs": [],
   "source": [
    "# I want to have the ranks for every day \n",
    "rankings = rankings.set_index(['rank_date'])\\\n",
    "            .groupby(['country_full'], group_keys=False)\\\n",
    "            .resample('D').first()\\\n",
    "            .fillna(method='ffill')\\\n",
    "            .reset_index()\n",
    "\n",
    "# join the ranks\n",
    "matches = matches.merge(rankings, \n",
    "                        left_on=['date', 'home_team'], \n",
    "                        right_on=['rank_date', 'country_full'])\n",
    "matches = matches.merge(rankings, \n",
    "                        left_on=['date', 'away_team'], \n",
    "                        right_on=['rank_date', 'country_full'], \n",
    "                        suffixes=('_home', '_away'))"
   ]
  },
  {
   "cell_type": "code",
   "execution_count": 27,
   "metadata": {
    "collapsed": true
   },
   "outputs": [],
   "source": [
    "# feature generation\n",
    "matches['rank_difference'] = matches['rank_home'] - matches['rank_away']\n",
    "matches['point_difference'] = matches['weighted_points_home'] - matches['weighted_points_away']\n",
    "matches['score_difference'] = matches['home_score'] - matches['away_score']\n",
    "matches['is_stake'] = matches['tournament'] != 'Friendly'\n",
    "matches['is_won'] = matches['score_difference'] > 0 # take draw as lost\n",
    "\n",
    "# I tried earlier rest days but it did not turn to be useful\n",
    "max_rest = 30\n",
    "matches['rest_days'] = matches.groupby('home_team').diff()['date'].dt.days.clip(0,max_rest).fillna(max_rest)\n",
    "\n",
    "# I tried earlier the team as well but that did not make a difference either\n",
    "matches['wc_participant'] = matches['home_team'] * matches['home_team'].isin(world_cup.index.tolist())\n",
    "matches['wc_participant'] = matches['wc_participant'].replace({'':'Other'})\n",
    "matches = matches.join(pd.get_dummies(matches['wc_participant']))"
   ]
  },
  {
   "cell_type": "markdown",
   "metadata": {},
   "source": [
    "**Modelling**\n",
    "\n",
    "I used a Simple Logistic regression (Accuracy = 68.18%)"
   ]
  },
  {
   "cell_type": "code",
   "execution_count": 28,
   "metadata": {
    "collapsed": false
   },
   "outputs": [
    {
     "data": {
      "image/png": "[encoded data removed]",
      "text/plain": [
       "<matplotlib.figure.Figure at 0x11a70d3c8>"
      ]
     },
     "metadata": {},
     "output_type": "display_data"
    }
   ],
   "source": [
    "from sklearn import linear_model\n",
    "from sklearn import ensemble\n",
    "from sklearn.model_selection import train_test_split\n",
    "from sklearn.metrics import confusion_matrix, roc_curve, roc_auc_score\n",
    "from sklearn.pipeline import Pipeline\n",
    "from sklearn.preprocessing import PolynomialFeatures\n",
    "\n",
    "X, y = matches.loc[:,['rank_home', 'rank_difference', 'point_difference', 'is_stake']], matches['is_won']\n",
    "X_train, X_test, y_train, y_test = train_test_split(\n",
    "    X, y, test_size=0.2, random_state=42)\n",
    "\n",
    "logreg = linear_model.LogisticRegression(C=1e-5)\n",
    "features = PolynomialFeatures(degree=2)\n",
    "model = Pipeline([\n",
    "    ('polynomial_features', features),\n",
    "    ('logistic_regression', logreg)\n",
    "])\n",
    "model = model.fit(X_train, y_train)\n",
    "\n",
    "# figures \n",
    "fpr, tpr, _ = roc_curve(y_test, model.predict_proba(X_test)[:,1])\n",
    "plt.figure(figsize=(15,5))\n",
    "ax = plt.subplot(1,3,1)\n",
    "ax.plot([0, 1], [0, 1], 'k--')\n",
    "ax.plot(fpr, tpr)\n",
    "ax.set_title('AUC score is {0:0.2}'.format(roc_auc_score(y_test, model.predict_proba(X_test)[:,1])))\n",
    "ax.set_aspect(1)\n",
    "\n",
    "ax = plt.subplot(1,3,2)\n",
    "cm = confusion_matrix(y_test, model.predict(X_test))\n",
    "ax.imshow(cm, cmap='Blues', clim = (0, cm.max())) \n",
    "\n",
    "ax.set_xlabel('Predicted label')\n",
    "ax.set_title('Performance on the Test set')\n",
    "\n",
    "ax = plt.subplot(1,3,3)\n",
    "cm = confusion_matrix(y_train, model.predict(X_train))\n",
    "ax.imshow(cm, cmap='Blues', clim = (0, cm.max())) \n",
    "ax.set_xlabel('Predicted label')\n",
    "ax.set_title('Performance on the Training set')\n",
    "pass"
   ]
  },
  {
   "cell_type": "markdown",
   "metadata": {},
   "source": [
    "With an accuracy level of 68.18%, the model is decent especially since soccer is a team sport and has a low score per game as compared to sports such as NBA -- which means it's much harder to have a good prediction of win loss outcome when game point differences are marginal."
   ]
  },
  {
   "cell_type": "markdown",
   "metadata": {},
   "source": [
    "# World Cup simulation"
   ]
  },
  {
   "cell_type": "markdown",
   "metadata": {},
   "source": [
    "## Group rounds"
   ]
  },
  {
   "cell_type": "code",
   "execution_count": 29,
   "metadata": {
    "collapsed": true
   },
   "outputs": [],
   "source": [
    "# let's define a small margin when we safer to predict draw then win\n",
    "margin = 0.05\n",
    "\n",
    "# let's define the rankings at the time of the World Cup\n",
    "world_cup_rankings = rankings.loc[(rankings['rank_date'] == rankings['rank_date'].max()) & \n",
    "                                    rankings['country_full'].isin(world_cup.index.unique())]\n",
    "world_cup_rankings = world_cup_rankings.set_index(['country_full'])"
   ]
  },
  {
   "cell_type": "code",
   "execution_count": 30,
   "metadata": {
    "collapsed": false
   },
   "outputs": [
    {
     "name": "stdout",
     "output_type": "stream",
     "text": [
      "___Starting group G:___\n",
      "Belgium vs. Panama: Belgium wins with 0.73\n",
      "Belgium vs. Tunisia: Belgium wins with 0.61\n",
      "Belgium vs. England: Belgium wins with 0.57\n",
      "Panama vs. Tunisia: Tunisia wins with 0.73\n",
      "Panama vs. England: England wins with 0.77\n",
      "Tunisia vs. England: England wins with 0.57\n",
      "___Starting group B:___\n",
      "Portugal vs. Spain: Draw\n",
      "Portugal vs. Morocco: Portugal wins with 0.68\n",
      "Portugal vs. Iran: Portugal wins with 0.66\n",
      "Spain vs. Morocco: Spain wins with 0.65\n",
      "Spain vs. Iran: Spain wins with 0.64\n",
      "Morocco vs. Iran: Draw\n",
      "___Starting group A:___\n",
      "Russia vs. Saudi Arabia: Saudi Arabia wins with 0.55\n",
      "Russia vs. Egypt: Egypt wins with 0.66\n",
      "Russia vs. Uruguay: Uruguay wins with 0.83\n",
      "Saudi Arabia vs. Egypt: Egypt wins with 0.65\n",
      "Saudi Arabia vs. Uruguay: Uruguay wins with 0.83\n",
      "Egypt vs. Uruguay: Uruguay wins with 0.74\n",
      "___Starting group F:___\n",
      "Germany vs. Mexico: Germany wins with 0.60\n",
      "Germany vs. Sweden: Germany wins with 0.63\n",
      "Germany vs. Korea Republic: Germany wins with 0.71\n",
      "Mexico vs. Sweden: Draw\n",
      "Mexico vs. Korea Republic: Mexico wins with 0.68\n",
      "Sweden vs. Korea Republic: Sweden wins with 0.64\n",
      "___Starting group E:___\n",
      "Brazil vs. Switzerland: Draw\n",
      "Brazil vs. Costa Rica: Brazil wins with 0.62\n",
      "Brazil vs. Serbia: Brazil wins with 0.67\n",
      "Switzerland vs. Costa Rica: Switzerland wins with 0.59\n",
      "Switzerland vs. Serbia: Switzerland wins with 0.64\n",
      "Costa Rica vs. Serbia: Draw\n",
      "___Starting group H:___\n",
      "Poland vs. Senegal: Poland wins with 0.60\n",
      "Poland vs. Colombia: Draw\n",
      "Poland vs. Japan: Poland wins with 0.73\n",
      "Senegal vs. Colombia: Colombia wins with 0.59\n",
      "Senegal vs. Japan: Senegal wins with 0.65\n",
      "Colombia vs. Japan: Colombia wins with 0.70\n",
      "___Starting group D:___\n",
      "Argentina vs. Iceland: Argentina wins with 0.60\n",
      "Argentina vs. Croatia: Argentina wins with 0.59\n",
      "Argentina vs. Nigeria: Argentina wins with 0.70\n",
      "Iceland vs. Croatia: Draw\n",
      "Iceland vs. Nigeria: Iceland wins with 0.62\n",
      "Croatia vs. Nigeria: Croatia wins with 0.63\n",
      "___Starting group C:___\n",
      "France vs. Australia: France wins with 0.65\n",
      "France vs. Peru: Draw\n",
      "France vs. Denmark: Draw\n",
      "Australia vs. Peru: Peru wins with 0.68\n",
      "Australia vs. Denmark: Denmark wins with 0.70\n",
      "Peru vs. Denmark: Draw\n"
     ]
    }
   ],
   "source": [
    "from itertools import combinations\n",
    "\n",
    "world_cup['points'] = 0\n",
    "world_cup['total_prob'] = 0\n",
    "\n",
    "for group in set(world_cup['Group']):\n",
    "    print('___Starting group {}:___'.format(group))\n",
    "    for home, away in combinations(world_cup.query('Group == \"{}\"'.format(group)).index, 2):\n",
    "        print(\"{} vs. {}: \".format(home, away), end='')\n",
    "        row = pd.DataFrame(np.array([[np.nan, np.nan, np.nan, True]]), columns=X_test.columns)\n",
    "        # entering the rank_home value using loc to search ranking\n",
    "        row['rank_home'] = world_cup_rankings.loc[home, 'rank']\n",
    "        home_points = world_cup_rankings.loc[home, 'weighted_points']\n",
    "        opp_rank = world_cup_rankings.loc[away, 'rank']\n",
    "        opp_points = world_cup_rankings.loc[away, 'weighted_points']\n",
    "        # Computing difference in ranking\n",
    "        row['rank_difference'] = row['rank_home'] - opp_rank\n",
    "        row['point_difference'] = home_points - opp_points\n",
    "        \n",
    "        home_win_prob = model.predict_proba(row)[:,1][0]\n",
    "        world_cup.loc[home, 'total_prob'] += home_win_prob\n",
    "        world_cup.loc[away, 'total_prob'] += 1-home_win_prob\n",
    "        \n",
    "        \n",
    "        points = 0\n",
    "        if home_win_prob <= 0.5 - margin:\n",
    "            print(\"{} wins with {:.2f}\".format(away, 1-home_win_prob))\n",
    "            # Establishing the 'points' column here\n",
    "            world_cup.loc[away, 'points'] += 3\n",
    "        if home_win_prob > 0.5 - margin:\n",
    "            points = 1\n",
    "        if home_win_prob >= 0.5 + margin:\n",
    "            points = 3\n",
    "            world_cup.loc[home, 'points'] += 3\n",
    "            print(\"{} wins with {:.2f}\".format(home, home_win_prob))\n",
    "        if points == 1:\n",
    "            print(\"Draw\")\n",
    "            world_cup.loc[home, 'points'] += 1\n",
    "            world_cup.loc[away, 'points'] += 1"
   ]
  },
  {
   "cell_type": "markdown",
   "metadata": {},
   "source": [
    "## Single-elimination rounds"
   ]
  },
  {
   "cell_type": "code",
   "execution_count": 31,
   "metadata": {
    "collapsed": false
   },
   "outputs": [
    {
     "name": "stdout",
     "output_type": "stream",
     "text": [
      "___Starting of the round_of_16___\n",
      "Uruguay vs. Spain: Spain wins with probability 0.54\n",
      "Denmark vs. Croatia: Denmark wins with probability 0.55\n",
      "Brazil vs. Mexico: Brazil wins with probability 0.58\n",
      "Belgium vs. Colombia: Belgium wins with probability 0.59\n",
      "Egypt vs. Portugal: Portugal wins with probability 0.81\n",
      "France vs. Argentina: Argentina wins with probability 0.53\n",
      "Switzerland vs. Germany: Germany wins with probability 0.60\n",
      "England vs. Poland: Poland wins with probability 0.53\n",
      "\n",
      "\n",
      "___Starting of the quarterfinal___\n",
      "Spain vs. Denmark: Denmark wins with probability 0.51\n",
      "Brazil vs. Belgium: Belgium wins with probability 0.51\n",
      "Portugal vs. Argentina: Portugal wins with probability 0.51\n",
      "Germany vs. Poland: Germany wins with probability 0.57\n",
      "\n",
      "\n",
      "___Starting of the semifinal___\n",
      "Denmark vs. Belgium: Belgium wins with probability 0.57\n",
      "Portugal vs. Germany: Germany wins with probability 0.56\n",
      "\n",
      "\n",
      "___Starting of the final___\n",
      "Belgium vs. Germany: Germany wins with probability 0.54\n",
      "\n",
      "\n"
     ]
    }
   ],
   "source": [
    "pairing = [0,3,4,7,8,11,12,15,1,2,5,6,9,10,13,14]\n",
    "\n",
    "labels = []\n",
    "odds = []\n",
    "\n",
    "world_cup = world_cup.sort_values(by=['Group', 'points', 'total_prob'], ascending=False).reset_index()\n",
    "next_round_wc = world_cup.groupby('Group').nth([0, 1]) # select the top 2\n",
    "next_round_wc = next_round_wc.reset_index()\n",
    "next_round_wc = next_round_wc.loc[pairing]\n",
    "next_round_wc = next_round_wc.set_index('Team')\n",
    "\n",
    "finals = ['round_of_16', 'quarterfinal', 'semifinal', 'final']\n",
    "\n",
    "for f in finals:\n",
    "    print(\"___Starting of the {}___\".format(f))\n",
    "    iterations = int(len(next_round_wc) / 2)\n",
    "    winners = []\n",
    "\n",
    "    for i in range(iterations):\n",
    "        home = next_round_wc.index[i*2]\n",
    "        away = next_round_wc.index[i*2+1]\n",
    "        print(\"{} vs. {}: \".format(home,\n",
    "                                   away), \n",
    "                                   end='')\n",
    "        row = pd.DataFrame(np.array([[np.nan, np.nan, np.nan, True]]), columns=X_test.columns)\n",
    "        row['rank_home'] = world_cup_rankings.loc[home, 'rank']\n",
    "        home_points = world_cup_rankings.loc[home, 'weighted_points']\n",
    "        opp_rank = world_cup_rankings.loc[away, 'rank']\n",
    "        opp_points = world_cup_rankings.loc[away, 'weighted_points']\n",
    "        row['rank_difference'] = row['rank_home'] - opp_rank\n",
    "        row['point_difference'] = home_points - opp_points\n",
    "\n",
    "        home_win_prob = model.predict_proba(row)[:,1][0]\n",
    "        if model.predict_proba(row)[:,1] <= 0.5:\n",
    "            print(\"{0} wins with probability {1:.2f}\".format(away, 1-home_win_prob))\n",
    "            winners.append(away)\n",
    "        else:\n",
    "            print(\"{0} wins with probability {1:.2f}\".format(home, home_win_prob))\n",
    "            winners.append(home)\n",
    "\n",
    "        labels.append(\"{}({:.2f}) vs. {}({:.2f})\".format(world_cup_rankings.loc[home, 'country_abrv'], \n",
    "                                                        1/home_win_prob, \n",
    "                                                        world_cup_rankings.loc[away, 'country_abrv'], \n",
    "                                                        1/(1-home_win_prob)))\n",
    "        odds.append([home_win_prob, 1-home_win_prob])\n",
    "                \n",
    "    next_round_wc = next_round_wc.loc[winners]\n",
    "    print(\"\\n\")"
   ]
  },
  {
   "cell_type": "markdown",
   "metadata": {},
   "source": [
    "# 3rd place matchup \n",
    "Portugal wins with a chance of 0.55"
   ]
  },
  {
   "cell_type": "code",
   "execution_count": 32,
   "metadata": {
    "collapsed": false
   },
   "outputs": [
    {
     "data": {
      "text/plain": [
       "0.5551148734392013"
      ]
     },
     "execution_count": 32,
     "metadata": {},
     "output_type": "execute_result"
    }
   ],
   "source": [
    "row['rank_home'] = world_cup_rankings.loc['Denmark', 'rank']\n",
    "home_points = world_cup_rankings.loc['Denmark', 'weighted_points']\n",
    "opp_rank = world_cup_rankings.loc['Portugal', 'rank']\n",
    "opp_points = world_cup_rankings.loc['Portugal', 'weighted_points']\n",
    "# Computing difference in ranking\n",
    "row['rank_difference'] = row['rank_home'] - opp_rank\n",
    "row['point_difference'] = home_points - opp_points\n",
    "Denmark_winning_prob = model.predict_proba(row)[:,1][0]\n",
    "Portugal_winning_prob=1 -Denmark_winning_prob\n",
    "Portugal_winning_prob"
   ]
  },
  {
   "cell_type": "code",
   "execution_count": 33,
   "metadata": {
    "collapsed": false
   },
   "outputs": [
    {
     "data": {
      "text/html": [
       "<script>requirejs.config({paths: { 'plotly': ['https://cdn.plot.ly/plotly-latest.min']},});if(!window.Plotly) {{require(['plotly'],function(plotly) {window.Plotly=plotly;});}}</script>"
      ],
      "text/vnd.plotly.v1+html": [
       "<script>requirejs.config({paths: { 'plotly': ['https://cdn.plot.ly/plotly-latest.min']},});if(!window.Plotly) {{require(['plotly'],function(plotly) {window.Plotly=plotly;});}}</script>"
      ]
     },
     "metadata": {},
     "output_type": "display_data"
    }
   ],
   "source": [
    "import seaborn as sns\n",
    "import matplotlib.pyplot as plt\n",
    "%matplotlib inline\n",
    "\n",
    "import plotly.offline as py\n",
    "py.init_notebook_mode(connected=True)\n",
    "import plotly.graph_objs as go\n",
    "import plotly.tools as tls"
   ]
  },
  {
   "cell_type": "code",
   "execution_count": 34,
   "metadata": {
    "collapsed": false
   },
   "outputs": [
    {
     "name": "stderr",
     "output_type": "stream",
     "text": [
      "/Users/soonleqi/anaconda/lib/python3.6/site-packages/IPython/core/interactiveshell.py:2717: DtypeWarning:\n",
      "\n",
      "Columns (23,35) have mixed types. Specify dtype option on import or set low_memory=False.\n",
      "\n"
     ]
    },
    {
     "data": {
      "text/html": [
       "<div>\n",
       "<style scoped>\n",
       "    .dataframe tbody tr th:only-of-type {\n",
       "        vertical-align: middle;\n",
       "    }\n",
       "\n",
       "    .dataframe tbody tr th {\n",
       "        vertical-align: top;\n",
       "    }\n",
       "\n",
       "    .dataframe thead th {\n",
       "        text-align: right;\n",
       "    }\n",
       "</style>\n",
       "<table border=\"1\" class=\"dataframe\">\n",
       "  <thead>\n",
       "    <tr style=\"text-align: right;\">\n",
       "      <th></th>\n",
       "      <th>Unnamed: 0</th>\n",
       "      <th>Name</th>\n",
       "      <th>Age</th>\n",
       "      <th>Photo</th>\n",
       "      <th>Nationality</th>\n",
       "      <th>Flag</th>\n",
       "      <th>Overall</th>\n",
       "      <th>Potential</th>\n",
       "      <th>Club</th>\n",
       "      <th>Club Logo</th>\n",
       "      <th>...</th>\n",
       "      <th>RB</th>\n",
       "      <th>RCB</th>\n",
       "      <th>RCM</th>\n",
       "      <th>RDM</th>\n",
       "      <th>RF</th>\n",
       "      <th>RM</th>\n",
       "      <th>RS</th>\n",
       "      <th>RW</th>\n",
       "      <th>RWB</th>\n",
       "      <th>ST</th>\n",
       "    </tr>\n",
       "  </thead>\n",
       "  <tbody>\n",
       "    <tr>\n",
       "      <th>0</th>\n",
       "      <td>0</td>\n",
       "      <td>Cristiano Ronaldo</td>\n",
       "      <td>32</td>\n",
       "      <td>https://cdn.sofifa.org/48/18/players/20801.png</td>\n",
       "      <td>Portugal</td>\n",
       "      <td>https://cdn.sofifa.org/flags/38.png</td>\n",
       "      <td>94</td>\n",
       "      <td>94</td>\n",
       "      <td>Real Madrid CF</td>\n",
       "      <td>https://cdn.sofifa.org/24/18/teams/243.png</td>\n",
       "      <td>...</td>\n",
       "      <td>61.0</td>\n",
       "      <td>53.0</td>\n",
       "      <td>82.0</td>\n",
       "      <td>62.0</td>\n",
       "      <td>91.0</td>\n",
       "      <td>89.0</td>\n",
       "      <td>92.0</td>\n",
       "      <td>91.0</td>\n",
       "      <td>66.0</td>\n",
       "      <td>92.0</td>\n",
       "    </tr>\n",
       "    <tr>\n",
       "      <th>1</th>\n",
       "      <td>1</td>\n",
       "      <td>L. Messi</td>\n",
       "      <td>30</td>\n",
       "      <td>https://cdn.sofifa.org/48/18/players/158023.png</td>\n",
       "      <td>Argentina</td>\n",
       "      <td>https://cdn.sofifa.org/flags/52.png</td>\n",
       "      <td>93</td>\n",
       "      <td>93</td>\n",
       "      <td>FC Barcelona</td>\n",
       "      <td>https://cdn.sofifa.org/24/18/teams/241.png</td>\n",
       "      <td>...</td>\n",
       "      <td>57.0</td>\n",
       "      <td>45.0</td>\n",
       "      <td>84.0</td>\n",
       "      <td>59.0</td>\n",
       "      <td>92.0</td>\n",
       "      <td>90.0</td>\n",
       "      <td>88.0</td>\n",
       "      <td>91.0</td>\n",
       "      <td>62.0</td>\n",
       "      <td>88.0</td>\n",
       "    </tr>\n",
       "    <tr>\n",
       "      <th>2</th>\n",
       "      <td>2</td>\n",
       "      <td>Neymar</td>\n",
       "      <td>25</td>\n",
       "      <td>https://cdn.sofifa.org/48/18/players/190871.png</td>\n",
       "      <td>Brazil</td>\n",
       "      <td>https://cdn.sofifa.org/flags/54.png</td>\n",
       "      <td>92</td>\n",
       "      <td>94</td>\n",
       "      <td>Paris Saint-Germain</td>\n",
       "      <td>https://cdn.sofifa.org/24/18/teams/73.png</td>\n",
       "      <td>...</td>\n",
       "      <td>59.0</td>\n",
       "      <td>46.0</td>\n",
       "      <td>79.0</td>\n",
       "      <td>59.0</td>\n",
       "      <td>88.0</td>\n",
       "      <td>87.0</td>\n",
       "      <td>84.0</td>\n",
       "      <td>89.0</td>\n",
       "      <td>64.0</td>\n",
       "      <td>84.0</td>\n",
       "    </tr>\n",
       "    <tr>\n",
       "      <th>3</th>\n",
       "      <td>3</td>\n",
       "      <td>L. Suárez</td>\n",
       "      <td>30</td>\n",
       "      <td>https://cdn.sofifa.org/48/18/players/176580.png</td>\n",
       "      <td>Uruguay</td>\n",
       "      <td>https://cdn.sofifa.org/flags/60.png</td>\n",
       "      <td>92</td>\n",
       "      <td>92</td>\n",
       "      <td>FC Barcelona</td>\n",
       "      <td>https://cdn.sofifa.org/24/18/teams/241.png</td>\n",
       "      <td>...</td>\n",
       "      <td>64.0</td>\n",
       "      <td>58.0</td>\n",
       "      <td>80.0</td>\n",
       "      <td>65.0</td>\n",
       "      <td>88.0</td>\n",
       "      <td>85.0</td>\n",
       "      <td>88.0</td>\n",
       "      <td>87.0</td>\n",
       "      <td>68.0</td>\n",
       "      <td>88.0</td>\n",
       "    </tr>\n",
       "    <tr>\n",
       "      <th>4</th>\n",
       "      <td>4</td>\n",
       "      <td>M. Neuer</td>\n",
       "      <td>31</td>\n",
       "      <td>https://cdn.sofifa.org/48/18/players/167495.png</td>\n",
       "      <td>Germany</td>\n",
       "      <td>https://cdn.sofifa.org/flags/21.png</td>\n",
       "      <td>92</td>\n",
       "      <td>92</td>\n",
       "      <td>FC Bayern Munich</td>\n",
       "      <td>https://cdn.sofifa.org/24/18/teams/21.png</td>\n",
       "      <td>...</td>\n",
       "      <td>NaN</td>\n",
       "      <td>NaN</td>\n",
       "      <td>NaN</td>\n",
       "      <td>NaN</td>\n",
       "      <td>NaN</td>\n",
       "      <td>NaN</td>\n",
       "      <td>NaN</td>\n",
       "      <td>NaN</td>\n",
       "      <td>NaN</td>\n",
       "      <td>NaN</td>\n",
       "    </tr>\n",
       "  </tbody>\n",
       "</table>\n",
       "<p>5 rows × 75 columns</p>\n",
       "</div>"
      ],
      "text/plain": [
       "   Unnamed: 0               Name  Age  \\\n",
       "0           0  Cristiano Ronaldo   32   \n",
       "1           1           L. Messi   30   \n",
       "2           2             Neymar   25   \n",
       "3           3          L. Suárez   30   \n",
       "4           4           M. Neuer   31   \n",
       "\n",
       "                                             Photo Nationality  \\\n",
       "0   https://cdn.sofifa.org/48/18/players/20801.png    Portugal   \n",
       "1  https://cdn.sofifa.org/48/18/players/158023.png   Argentina   \n",
       "2  https://cdn.sofifa.org/48/18/players/190871.png      Brazil   \n",
       "3  https://cdn.sofifa.org/48/18/players/176580.png     Uruguay   \n",
       "4  https://cdn.sofifa.org/48/18/players/167495.png     Germany   \n",
       "\n",
       "                                  Flag  Overall  Potential  \\\n",
       "0  https://cdn.sofifa.org/flags/38.png       94         94   \n",
       "1  https://cdn.sofifa.org/flags/52.png       93         93   \n",
       "2  https://cdn.sofifa.org/flags/54.png       92         94   \n",
       "3  https://cdn.sofifa.org/flags/60.png       92         92   \n",
       "4  https://cdn.sofifa.org/flags/21.png       92         92   \n",
       "\n",
       "                  Club                                   Club Logo  ...   \\\n",
       "0       Real Madrid CF  https://cdn.sofifa.org/24/18/teams/243.png  ...    \n",
       "1         FC Barcelona  https://cdn.sofifa.org/24/18/teams/241.png  ...    \n",
       "2  Paris Saint-Germain   https://cdn.sofifa.org/24/18/teams/73.png  ...    \n",
       "3         FC Barcelona  https://cdn.sofifa.org/24/18/teams/241.png  ...    \n",
       "4     FC Bayern Munich   https://cdn.sofifa.org/24/18/teams/21.png  ...    \n",
       "\n",
       "     RB   RCB   RCM   RDM    RF    RM    RS    RW   RWB    ST  \n",
       "0  61.0  53.0  82.0  62.0  91.0  89.0  92.0  91.0  66.0  92.0  \n",
       "1  57.0  45.0  84.0  59.0  92.0  90.0  88.0  91.0  62.0  88.0  \n",
       "2  59.0  46.0  79.0  59.0  88.0  87.0  84.0  89.0  64.0  84.0  \n",
       "3  64.0  58.0  80.0  65.0  88.0  85.0  88.0  87.0  68.0  88.0  \n",
       "4   NaN   NaN   NaN   NaN   NaN   NaN   NaN   NaN   NaN   NaN  \n",
       "\n",
       "[5 rows x 75 columns]"
      ]
     },
     "execution_count": 34,
     "metadata": {},
     "output_type": "execute_result"
    }
   ],
   "source": [
    "df = pd.read_csv('/Users/soonleqi/Downloads/CompleteDataset.csv')\n",
    "df.head()"
   ]
  },
  {
   "cell_type": "markdown",
   "metadata": {},
   "source": [
    "**I will assume that the mean of the top 50 talents from each country rated by 'Overall' score is representative of the country's soccer capabilities at the world cup level**"
   ]
  },
  {
   "cell_type": "code",
   "execution_count": 35,
   "metadata": {
    "collapsed": true
   },
   "outputs": [],
   "source": [
    "df2 = df.sort_values(['Nationality','Overall'],ascending=False).groupby('Nationality').head(50)"
   ]
  },
  {
   "cell_type": "code",
   "execution_count": 36,
   "metadata": {
    "collapsed": true
   },
   "outputs": [],
   "source": [
    "def str2number(amount):\n",
    "    if amount[-1] == 'M':\n",
    "        return float(amount[1:-1])*1000000\n",
    "    elif amount[-1] == 'K':\n",
    "        return float(amount[1:-1])*1000\n",
    "    else:\n",
    "        return float(amount[1:])\n",
    "    \n",
    "df2['MaxPotential'] = df2['Potential'] - df2['Overall']\n",
    "df2['ValueNum'] = df2['Value'].apply(lambda x: str2number(x))\n",
    "top_teams = df2.groupby(\"Nationality\").mean().sort_values(\"ValueNum\", ascending=False).head(16).reset_index()[[\"Nationality\", \"Overall\", \"ValueNum\",'MaxPotential']]"
   ]
  },
  {
   "cell_type": "markdown",
   "metadata": {},
   "source": [
    "**Visualizing top 16 countries with the highest talent score**"
   ]
  },
  {
   "cell_type": "code",
   "execution_count": 37,
   "metadata": {
    "collapsed": false
   },
   "outputs": [
    {
     "data": {
      "application/vnd.plotly.v1+json": {
       "data": [
        {
         "marker": {
          "color": "rgba(55, 128, 191, 0.7)",
          "line": {
           "color": "rgba(55, 128, 191, 1.0)",
           "width": 2
          }
         },
         "name": "Country Overall",
         "type": "bar",
         "x": [
          "Spain",
          "Germany",
          "France",
          "Brazil",
          "Argentina",
          "Italy",
          "Belgium",
          "Portugal",
          "England",
          "Netherlands",
          "Croatia",
          "Uruguay",
          "Colombia",
          "Chile",
          "Serbia",
          "Turkey"
         ],
         "y": [
          83.8,
          82.58,
          82.44,
          82.22,
          81.26,
          81.46,
          79.2,
          79.98,
          80.24,
          78.46,
          75.66,
          76.12,
          76.52,
          76.92,
          75.9,
          75.96
         ]
        },
        {
         "marker": {
          "color": "rgba(219, 64, 82, 0.7)",
          "line": {
           "color": "rgba(219, 64, 82, 1.0)",
           "width": 2
          }
         },
         "name": "Country Potential",
         "type": "bar",
         "x": [
          "Spain",
          "Germany",
          "France",
          "Brazil",
          "Argentina",
          "Italy",
          "Belgium",
          "Portugal",
          "England",
          "Netherlands",
          "Croatia",
          "Uruguay",
          "Colombia",
          "Chile",
          "Serbia",
          "Turkey"
         ],
         "y": [
          1.56,
          2.48,
          2.64,
          1.98,
          1.62,
          2.02,
          2.5,
          2.94,
          2,
          2.5,
          3.48,
          1.88,
          1.98,
          0.28,
          2.4,
          1.96
         ]
        },
        {
         "mode": "lines+markers",
         "name": "Country Value [M€]",
         "type": "scatter",
         "x": [
          "Spain",
          "Germany",
          "France",
          "Brazil",
          "Argentina",
          "Italy",
          "Belgium",
          "Portugal",
          "England",
          "Netherlands",
          "Croatia",
          "Uruguay",
          "Colombia",
          "Chile",
          "Serbia",
          "Turkey"
         ],
         "y": [
          28.84,
          27.18,
          25.598,
          22.74,
          21.64,
          18.887,
          18.784,
          16.788,
          16.282,
          13.128,
          10.694,
          10.654,
          10.039,
          8.838,
          8.166,
          8.08
         ],
         "yaxis": "y2"
        }
       ],
       "layout": {
        "barmode": "stack",
        "height": 500,
        "legend": {
         "x": 0.05,
         "y": 0.05
        },
        "paper_bgcolor": "rgb(244, 238, 225)",
        "plot_bgcolor": "rgb(244, 238, 225)",
        "title": "Level of talent across countries",
        "titlefont": {
         "size": 25
        },
        "width": 850,
        "xaxis": {
         "title": "Country Name"
        },
        "yaxis": {
         "anchor": "x",
         "rangemode": "tozero",
         "title": "Country Overall/Potential"
        },
        "yaxis2": {
         "anchor": "x",
         "dtick": 200,
         "overlaying": "y",
         "rangemode": "tozero",
         "side": "right",
         "tickfont": {
          "color": "rgb(148, 103, 189)"
         },
         "title": "Country Value [M€]",
         "titlefont": {
          "color": "rgb(148, 103, 189)"
         }
        }
       }
      },
      "text/html": [
       "<div id=\"93ee1f71-d4ac-4af0-9c77-4cc20ce6214f\" style=\"height: 500px; width: 850px;\" class=\"plotly-graph-div\"></div><script type=\"text/javascript\">require([\"plotly\"], function(Plotly) { window.PLOTLYENV=window.PLOTLYENV || {};window.PLOTLYENV.BASE_URL=\"https://plot.ly\";Plotly.newPlot(\"93ee1f71-d4ac-4af0-9c77-4cc20ce6214f\", [{\"type\": \"bar\", \"x\": [\"Spain\", \"Germany\", \"France\", \"Brazil\", \"Argentina\", \"Italy\", \"Belgium\", \"Portugal\", \"England\", \"Netherlands\", \"Croatia\", \"Uruguay\", \"Colombia\", \"Chile\", \"Serbia\", \"Turkey\"], \"y\": [83.8, 82.58, 82.44, 82.22, 81.26, 81.46, 79.2, 79.98, 80.24, 78.46, 75.66, 76.12, 76.52, 76.92, 75.9, 75.96], \"name\": \"Country Overall\", \"marker\": {\"color\": \"rgba(55, 128, 191, 0.7)\", \"line\": {\"color\": \"rgba(55, 128, 191, 1.0)\", \"width\": 2}}}, {\"type\": \"bar\", \"x\": [\"Spain\", \"Germany\", \"France\", \"Brazil\", \"Argentina\", \"Italy\", \"Belgium\", \"Portugal\", \"England\", \"Netherlands\", \"Croatia\", \"Uruguay\", \"Colombia\", \"Chile\", \"Serbia\", \"Turkey\"], \"y\": [1.56, 2.48, 2.64, 1.98, 1.62, 2.02, 2.5, 2.94, 2.0, 2.5, 3.48, 1.88, 1.98, 0.28, 2.4, 1.96], \"name\": \"Country Potential\", \"marker\": {\"color\": \"rgba(219, 64, 82, 0.7)\", \"line\": {\"color\": \"rgba(219, 64, 82, 1.0)\", \"width\": 2}}}, {\"type\": \"scatter\", \"x\": [\"Spain\", \"Germany\", \"France\", \"Brazil\", \"Argentina\", \"Italy\", \"Belgium\", \"Portugal\", \"England\", \"Netherlands\", \"Croatia\", \"Uruguay\", \"Colombia\", \"Chile\", \"Serbia\", \"Turkey\"], \"y\": [28.84, 27.18, 25.598, 22.74, 21.64, 18.887, 18.784, 16.788, 16.282, 13.128, 10.694, 10.654, 10.039, 8.838, 8.166, 8.08], \"name\": \"Country Value [M\\u20ac]\", \"mode\": \"lines+markers\", \"yaxis\": \"y2\"}], {\"barmode\": \"stack\", \"title\": \"Level of talent across countries\", \"titlefont\": {\"size\": 25}, \"width\": 850, \"height\": 500, \"paper_bgcolor\": \"rgb(244, 238, 225)\", \"plot_bgcolor\": \"rgb(244, 238, 225)\", \"yaxis\": {\"title\": \"Country Overall/Potential\", \"anchor\": \"x\", \"rangemode\": \"tozero\"}, \"xaxis\": {\"title\": \"Country Name\"}, \"yaxis2\": {\"title\": \"Country Value [M\\u20ac]\", \"titlefont\": {\"color\": \"rgb(148, 103, 189)\"}, \"tickfont\": {\"color\": \"rgb(148, 103, 189)\"}, \"overlaying\": \"y\", \"side\": \"right\", \"anchor\": \"x\", \"rangemode\": \"tozero\", \"dtick\": 200}, \"legend\": {\"x\": 0.05, \"y\": 0.05}}, {\"showLink\": true, \"linkText\": \"Export to plot.ly\"})});</script>"
      ],
      "text/vnd.plotly.v1+html": [
       "<div id=\"93ee1f71-d4ac-4af0-9c77-4cc20ce6214f\" style=\"height: 500px; width: 850px;\" class=\"plotly-graph-div\"></div><script type=\"text/javascript\">require([\"plotly\"], function(Plotly) { window.PLOTLYENV=window.PLOTLYENV || {};window.PLOTLYENV.BASE_URL=\"https://plot.ly\";Plotly.newPlot(\"93ee1f71-d4ac-4af0-9c77-4cc20ce6214f\", [{\"type\": \"bar\", \"x\": [\"Spain\", \"Germany\", \"France\", \"Brazil\", \"Argentina\", \"Italy\", \"Belgium\", \"Portugal\", \"England\", \"Netherlands\", \"Croatia\", \"Uruguay\", \"Colombia\", \"Chile\", \"Serbia\", \"Turkey\"], \"y\": [83.8, 82.58, 82.44, 82.22, 81.26, 81.46, 79.2, 79.98, 80.24, 78.46, 75.66, 76.12, 76.52, 76.92, 75.9, 75.96], \"name\": \"Country Overall\", \"marker\": {\"color\": \"rgba(55, 128, 191, 0.7)\", \"line\": {\"color\": \"rgba(55, 128, 191, 1.0)\", \"width\": 2}}}, {\"type\": \"bar\", \"x\": [\"Spain\", \"Germany\", \"France\", \"Brazil\", \"Argentina\", \"Italy\", \"Belgium\", \"Portugal\", \"England\", \"Netherlands\", \"Croatia\", \"Uruguay\", \"Colombia\", \"Chile\", \"Serbia\", \"Turkey\"], \"y\": [1.56, 2.48, 2.64, 1.98, 1.62, 2.02, 2.5, 2.94, 2.0, 2.5, 3.48, 1.88, 1.98, 0.28, 2.4, 1.96], \"name\": \"Country Potential\", \"marker\": {\"color\": \"rgba(219, 64, 82, 0.7)\", \"line\": {\"color\": \"rgba(219, 64, 82, 1.0)\", \"width\": 2}}}, {\"type\": \"scatter\", \"x\": [\"Spain\", \"Germany\", \"France\", \"Brazil\", \"Argentina\", \"Italy\", \"Belgium\", \"Portugal\", \"England\", \"Netherlands\", \"Croatia\", \"Uruguay\", \"Colombia\", \"Chile\", \"Serbia\", \"Turkey\"], \"y\": [28.84, 27.18, 25.598, 22.74, 21.64, 18.887, 18.784, 16.788, 16.282, 13.128, 10.694, 10.654, 10.039, 8.838, 8.166, 8.08], \"name\": \"Country Value [M\\u20ac]\", \"mode\": \"lines+markers\", \"yaxis\": \"y2\"}], {\"barmode\": \"stack\", \"title\": \"Level of talent across countries\", \"titlefont\": {\"size\": 25}, \"width\": 850, \"height\": 500, \"paper_bgcolor\": \"rgb(244, 238, 225)\", \"plot_bgcolor\": \"rgb(244, 238, 225)\", \"yaxis\": {\"title\": \"Country Overall/Potential\", \"anchor\": \"x\", \"rangemode\": \"tozero\"}, \"xaxis\": {\"title\": \"Country Name\"}, \"yaxis2\": {\"title\": \"Country Value [M\\u20ac]\", \"titlefont\": {\"color\": \"rgb(148, 103, 189)\"}, \"tickfont\": {\"color\": \"rgb(148, 103, 189)\"}, \"overlaying\": \"y\", \"side\": \"right\", \"anchor\": \"x\", \"rangemode\": \"tozero\", \"dtick\": 200}, \"legend\": {\"x\": 0.05, \"y\": 0.05}}, {\"showLink\": true, \"linkText\": \"Export to plot.ly\"})});</script>"
      ]
     },
     "metadata": {},
     "output_type": "display_data"
    }
   ],
   "source": [
    "trace1 = go.Bar(\n",
    "    x = top_teams[\"Nationality\"].tolist(),\n",
    "    y = top_teams[\"Overall\"].tolist(),\n",
    "    name='Country Overall',\n",
    "    marker=dict(\n",
    "        color='rgba(55, 128, 191, 0.7)',\n",
    "        line=dict(\n",
    "            color='rgba(55, 128, 191, 1.0)',\n",
    "            width=2,\n",
    "        )\n",
    "    )\n",
    ")\n",
    "\n",
    "trace2 = go.Bar(\n",
    "    x = top_teams[\"Nationality\"].tolist(),\n",
    "    y = top_teams[\"MaxPotential\"].tolist(),\n",
    "    name='Country Potential',\n",
    "    marker=dict(\n",
    "        color='rgba(219, 64, 82, 0.7)',\n",
    "        line=dict(\n",
    "            color='rgba(219, 64, 82, 1.0)',\n",
    "            width=2,\n",
    "        )\n",
    "    )\n",
    ")\n",
    "\n",
    "trace3 = go.Scatter(\n",
    "    x = top_teams[\"Nationality\"].tolist(),\n",
    "    y = (top_teams[\"ValueNum\"] / 1000000).tolist(),\n",
    "    name='Country Value [M€]',\n",
    "    mode = 'lines+markers',\n",
    "    yaxis='y2'\n",
    ")\n",
    "\n",
    "data = [trace1, trace2,trace3]\n",
    "\n",
    "layout = go.Layout(\n",
    "    barmode='stack',\n",
    "    title = 'Level of talent across countries',\n",
    "    titlefont=dict(size=25),\n",
    "    width=850,\n",
    "    height=500,\n",
    "    paper_bgcolor='rgb(244, 238, 225)',\n",
    "    plot_bgcolor='rgb(244, 238, 225)',\n",
    "    yaxis = dict(\n",
    "        title= 'Country Overall/Potential',\n",
    "        anchor = 'x',\n",
    "        rangemode='tozero'\n",
    "    ),\n",
    "    xaxis = dict(title= 'Country Name'),\n",
    "    yaxis2=dict(\n",
    "        title='Country Value [M€]',\n",
    "        titlefont=dict(\n",
    "            color='rgb(148, 103, 189)'\n",
    "        ),\n",
    "        tickfont=dict(\n",
    "            color='rgb(148, 103, 189)'\n",
    "        ),\n",
    "        overlaying='y',\n",
    "        side='right',\n",
    "        anchor = 'x',\n",
    "        rangemode = 'tozero',\n",
    "        dtick = 200\n",
    "    ),\n",
    "    #legend=dict(x=-.1, y=1.2)\n",
    "    legend=dict(x=0.05, y=0.05)\n",
    ")\n",
    "\n",
    "fig = go.Figure(data=data, layout=layout)\n",
    "py.iplot(fig)"
   ]
  },
  {
   "cell_type": "code",
   "execution_count": 38,
   "metadata": {
    "collapsed": false
   },
   "outputs": [
    {
     "data": {
      "text/plain": [
       "Group\n",
       "A        Uruguay\n",
       "A          Egypt\n",
       "B       Portugal\n",
       "B          Spain\n",
       "C        Denmark\n",
       "C         France\n",
       "D      Argentina\n",
       "D        Croatia\n",
       "E         Brazil\n",
       "E    Switzerland\n",
       "F        Germany\n",
       "F         Mexico\n",
       "G        Belgium\n",
       "G        England\n",
       "H         Poland\n",
       "H       Colombia\n",
       "Name: Team, dtype: object"
      ]
     },
     "execution_count": 38,
     "metadata": {},
     "output_type": "execute_result"
    }
   ],
   "source": [
    "# Countries identified by logreg to make it past group stages.\n",
    "next_round_wc = world_cup.groupby('Group').nth([0, 1]) \n",
    "next_round_wc['Team']"
   ]
  },
  {
   "cell_type": "code",
   "execution_count": 39,
   "metadata": {
    "collapsed": false
   },
   "outputs": [
    {
     "data": {
      "text/plain": [
       "11"
      ]
     },
     "execution_count": 39,
     "metadata": {},
     "output_type": "execute_result"
    }
   ],
   "source": [
    "# Overlaps\n",
    "next_round_wc['Team'].isin(top_teams['Nationality']).agg('sum')"
   ]
  },
  {
   "cell_type": "markdown",
   "metadata": {},
   "source": [
    "***Takeaways:***\n",
    "\n",
    "Overlaying the output with the matchup predictions, we have 3 key observations:\n",
    "1.  The logistic regression model coupled with the talent visualization shows that of the 16 top overall talent countries,   11/16 of countries will make it through to the single elimination rounds. \n",
    "> While this is inconclusive, it does give an indication that the talent pool available is probably an important factor to a country's perfomance at FIFA. \n",
    "> The format of FIFA ensures that not all 16 of the top talent pool countries will make it through to the elimination stages with ease, there are multiple points of upset even before FIFA begins. For example, Italy was previously ousted due to losing to Sweden in the 2nd round playoff in Nov 2017, despite having one of the best talents.\n",
    "2. There are multiple matches with almost 50/50 chance for either side to win, this implies that the model is unable to predict with high confidence of some matchups and will need to be tweaked as the results unfold. **(this is what makes it interesting to watch isn't it)**,\n",
    "> In the quarterfinals matchup, Argentina vs Portugal, only 1 team will make it to the finals with the top 2 players by overall ratings (Ronaldo & Messi) leading on each side. Interestingly, the winning chances of Portugal is only by 0.01.\n",
    "3. In the Finals matchup between Belgium and Germany, there is a substantially higher overall talent score for Germany (82.58) as compared to Belgium(79.2), even if Belgium were to maximize it's potential, it will only hit a score of 81.7 (which is still below Germany's overall score). Hence, unless there is significant environmental influence, both the predictive model & talent assessment results indicate Germany as the champions of FIFA 2018."
   ]
  },
  {
   "cell_type": "code",
   "execution_count": 40,
   "metadata": {
    "collapsed": false
   },
   "outputs": [
    {
     "data": {
      "text/html": [
       "<div>\n",
       "<style scoped>\n",
       "    .dataframe tbody tr th:only-of-type {\n",
       "        vertical-align: middle;\n",
       "    }\n",
       "\n",
       "    .dataframe tbody tr th {\n",
       "        vertical-align: top;\n",
       "    }\n",
       "\n",
       "    .dataframe thead th {\n",
       "        text-align: right;\n",
       "    }\n",
       "</style>\n",
       "<table border=\"1\" class=\"dataframe\">\n",
       "  <thead>\n",
       "    <tr style=\"text-align: right;\">\n",
       "      <th></th>\n",
       "      <th>rank_date</th>\n",
       "      <th>rank</th>\n",
       "      <th>country_full</th>\n",
       "      <th>country_abrv</th>\n",
       "      <th>cur_year_avg_weighted</th>\n",
       "      <th>two_year_ago_weighted</th>\n",
       "      <th>three_year_ago_weighted</th>\n",
       "      <th>weighted_points</th>\n",
       "    </tr>\n",
       "  </thead>\n",
       "  <tbody>\n",
       "    <tr>\n",
       "      <th>477708</th>\n",
       "      <td>2018-06-07</td>\n",
       "      <td>12.0</td>\n",
       "      <td>Denmark</td>\n",
       "      <td>DEN</td>\n",
       "      <td>723.72</td>\n",
       "      <td>90.07</td>\n",
       "      <td>80.21</td>\n",
       "      <td>894.00</td>\n",
       "    </tr>\n",
       "    <tr>\n",
       "      <th>172857</th>\n",
       "      <td>2018-06-07</td>\n",
       "      <td>3.0</td>\n",
       "      <td>Belgium</td>\n",
       "      <td>BEL</td>\n",
       "      <td>629.98</td>\n",
       "      <td>158.94</td>\n",
       "      <td>186.58</td>\n",
       "      <td>975.50</td>\n",
       "    </tr>\n",
       "    <tr>\n",
       "      <th>1316012</th>\n",
       "      <td>2018-06-07</td>\n",
       "      <td>4.0</td>\n",
       "      <td>Portugal</td>\n",
       "      <td>POR</td>\n",
       "      <td>646.92</td>\n",
       "      <td>155.33</td>\n",
       "      <td>125.53</td>\n",
       "      <td>927.78</td>\n",
       "    </tr>\n",
       "    <tr>\n",
       "      <th>655647</th>\n",
       "      <td>2018-06-07</td>\n",
       "      <td>1.0</td>\n",
       "      <td>Germany</td>\n",
       "      <td>GER</td>\n",
       "      <td>775.06</td>\n",
       "      <td>127.28</td>\n",
       "      <td>240.15</td>\n",
       "      <td>1142.49</td>\n",
       "    </tr>\n",
       "  </tbody>\n",
       "</table>\n",
       "</div>"
      ],
      "text/plain": [
       "         rank_date  rank country_full country_abrv  cur_year_avg_weighted  \\\n",
       "477708  2018-06-07  12.0      Denmark          DEN                 723.72   \n",
       "172857  2018-06-07   3.0      Belgium          BEL                 629.98   \n",
       "1316012 2018-06-07   4.0     Portugal          POR                 646.92   \n",
       "655647  2018-06-07   1.0      Germany          GER                 775.06   \n",
       "\n",
       "         two_year_ago_weighted  three_year_ago_weighted  weighted_points  \n",
       "477708                   90.07                    80.21           894.00  \n",
       "172857                  158.94                   186.58           975.50  \n",
       "1316012                 155.33                   125.53           927.78  \n",
       "655647                  127.28                   240.15          1142.49  "
      ]
     },
     "execution_count": 40,
     "metadata": {},
     "output_type": "execute_result"
    }
   ],
   "source": [
    "# Extracting latest ranking for the top 4 countries in semifinals\n",
    "finals = ['Germany','Portugal','Belgium','Denmark']\n",
    "Lastest_rank_check = rankings.sort_values('rank_date', ascending = False).groupby('country_full').head(1)\n",
    "Lastest_rank_check[Lastest_rank_check['country_full'].isin(finals)]"
   ]
  },
  {
   "cell_type": "markdown",
   "metadata": {},
   "source": [
    "LightGBM predictions with K-Fold"
   ]
  },
  {
   "cell_type": "code",
   "execution_count": 41,
   "metadata": {
    "collapsed": false
   },
   "outputs": [],
   "source": [
    "# predictive model of away_score\n",
    "list = ['rank_difference','is_stake','is_won','away_score']\n",
    "df2 = matches[list]"
   ]
  },
  {
   "cell_type": "code",
   "execution_count": 42,
   "metadata": {
    "collapsed": false
   },
   "outputs": [],
   "source": [
    "# Importing the dataset\n",
    "X2 = df2.iloc[:, 0:3]\n",
    "y2 = df2.iloc[:, -1]"
   ]
  },
  {
   "cell_type": "code",
   "execution_count": 43,
   "metadata": {
    "collapsed": false
   },
   "outputs": [
    {
     "data": {
      "text/html": [
       "<div>\n",
       "<style scoped>\n",
       "    .dataframe tbody tr th:only-of-type {\n",
       "        vertical-align: middle;\n",
       "    }\n",
       "\n",
       "    .dataframe tbody tr th {\n",
       "        vertical-align: top;\n",
       "    }\n",
       "\n",
       "    .dataframe thead th {\n",
       "        text-align: right;\n",
       "    }\n",
       "</style>\n",
       "<table border=\"1\" class=\"dataframe\">\n",
       "  <thead>\n",
       "    <tr style=\"text-align: right;\">\n",
       "      <th></th>\n",
       "      <th>rank_difference</th>\n",
       "      <th>is_stake</th>\n",
       "      <th>is_won</th>\n",
       "    </tr>\n",
       "  </thead>\n",
       "  <tbody>\n",
       "    <tr>\n",
       "      <th>0</th>\n",
       "      <td>8</td>\n",
       "      <td>True</td>\n",
       "      <td>False</td>\n",
       "    </tr>\n",
       "    <tr>\n",
       "      <th>1</th>\n",
       "      <td>2</td>\n",
       "      <td>True</td>\n",
       "      <td>False</td>\n",
       "    </tr>\n",
       "  </tbody>\n",
       "</table>\n",
       "</div>"
      ],
      "text/plain": [
       "   rank_difference  is_stake  is_won\n",
       "0                8      True   False\n",
       "1                2      True   False"
      ]
     },
     "execution_count": 43,
     "metadata": {},
     "output_type": "execute_result"
    }
   ],
   "source": [
    "# creating dataset with index[0] > Denmark (Home) vs  Portugal (Away) & index[1] > Belgium (Home) vs Germany (Away)\n",
    "df3 = pd.DataFrame(columns=[\"rank_difference\", \"is_stake\",'is_won'], data=[[8,True,False],[2,True,False]])\n",
    "df3"
   ]
  },
  {
   "cell_type": "code",
   "execution_count": 44,
   "metadata": {
    "collapsed": false
   },
   "outputs": [],
   "source": [
    "list = ['rank_difference','is_stake','is_won','home_score']\n",
    "df6 = matches[list]\n",
    "\n",
    "X3 = df6.iloc[:, 0:3]\n",
    "y3 = df6.iloc[:, -1]"
   ]
  },
  {
   "cell_type": "code",
   "execution_count": 46,
   "metadata": {
    "collapsed": false
   },
   "outputs": [],
   "source": [
    "from sklearn.cross_validation import KFold\n",
    "import lightgbm as lgb\n",
    "import time"
   ]
  },
  {
   "cell_type": "code",
   "execution_count": 47,
   "metadata": {
    "collapsed": true
   },
   "outputs": [],
   "source": [
    "lgbm_params =  {\n",
    "    'task': 'train',\n",
    "    'boosting_type': 'gbdt',\n",
    "    'objective': 'regression',\n",
    "    'metric': 'rmse',\n",
    "    'max_depth': 8,\n",
    "    'num_leaves': 32,  # 63, 127, 255\n",
    "    'feature_fraction': 0.8, # 0.1, 0.01\n",
    "    'bagging_fraction': 0.8,\n",
    "    'learning_rate': 0.01, #0.00625,#125,#0.025,#05,\n",
    "    'verbose': 1\n",
    "}"
   ]
  },
  {
   "cell_type": "code",
   "execution_count": 48,
   "metadata": {
    "collapsed": false
   },
   "outputs": [
    {
     "name": "stdout",
     "output_type": "stream",
     "text": [
      "FOLD: 0\n",
      "Training until validation scores don't improve for 100 rounds.\n",
      "[100]\ttrain's rmse: 1.30821\tvalid's rmse: 1.32451\n",
      "[200]\ttrain's rmse: 1.23314\tvalid's rmse: 1.24844\n",
      "[300]\ttrain's rmse: 1.21604\tvalid's rmse: 1.23149\n",
      "[400]\ttrain's rmse: 1.21072\tvalid's rmse: 1.22656\n",
      "[500]\ttrain's rmse: 1.20862\tvalid's rmse: 1.2263\n",
      "Early stopping, best iteration is:\n",
      "[446]\ttrain's rmse: 1.20956\tvalid's rmse: 1.22601\n",
      "fold finish after 0.3735041618347168\n",
      "FOLD: 1\n",
      "Training until validation scores don't improve for 100 rounds.\n",
      "[100]\ttrain's rmse: 1.23712\tvalid's rmse: 1.5965\n",
      "[200]\ttrain's rmse: 1.16113\tvalid's rmse: 1.51576\n",
      "[300]\ttrain's rmse: 1.14371\tvalid's rmse: 1.49421\n",
      "[400]\ttrain's rmse: 1.13828\tvalid's rmse: 1.4869\n",
      "[500]\ttrain's rmse: 1.13621\tvalid's rmse: 1.48519\n",
      "[600]\ttrain's rmse: 1.13524\tvalid's rmse: 1.48426\n",
      "[700]\ttrain's rmse: 1.13444\tvalid's rmse: 1.48406\n",
      "[800]\ttrain's rmse: 1.13388\tvalid's rmse: 1.48407\n",
      "Early stopping, best iteration is:\n",
      "[735]\ttrain's rmse: 1.13424\tvalid's rmse: 1.48402\n",
      "fold finish after 0.5325870513916016\n",
      "FOLD: 2\n",
      "Training until validation scores don't improve for 100 rounds.\n",
      "[100]\ttrain's rmse: 1.33133\tvalid's rmse: 1.20757\n",
      "[200]\ttrain's rmse: 1.2551\tvalid's rmse: 1.13912\n",
      "[300]\ttrain's rmse: 1.23776\tvalid's rmse: 1.12808\n",
      "[400]\ttrain's rmse: 1.23243\tvalid's rmse: 1.12718\n",
      "Early stopping, best iteration is:\n",
      "[357]\ttrain's rmse: 1.2339\tvalid's rmse: 1.12694\n",
      "fold finish after 0.27297186851501465\n",
      "FOLD: 3\n",
      "Training until validation scores don't improve for 100 rounds.\n",
      "[100]\ttrain's rmse: 1.32955\tvalid's rmse: 1.21826\n",
      "[200]\ttrain's rmse: 1.25401\tvalid's rmse: 1.1479\n",
      "[300]\ttrain's rmse: 1.23687\tvalid's rmse: 1.13573\n",
      "[400]\ttrain's rmse: 1.23155\tvalid's rmse: 1.13349\n",
      "[500]\ttrain's rmse: 1.22939\tvalid's rmse: 1.13492\n",
      "Early stopping, best iteration is:\n",
      "[407]\ttrain's rmse: 1.2313\tvalid's rmse: 1.13341\n",
      "fold finish after 0.3408620357513428\n",
      "FOLD: 4\n",
      "Training until validation scores don't improve for 100 rounds.\n",
      "[100]\ttrain's rmse: 1.32901\tvalid's rmse: 1.20136\n",
      "[200]\ttrain's rmse: 1.25116\tvalid's rmse: 1.14806\n",
      "[300]\ttrain's rmse: 1.23343\tvalid's rmse: 1.14505\n",
      "Early stopping, best iteration is:\n",
      "[256]\ttrain's rmse: 1.23794\tvalid's rmse: 1.14381\n",
      "fold finish after 0.20448899269104004\n"
     ]
    }
   ],
   "source": [
    "Y_target = []\n",
    "for fold_id,(train_idx, val_idx) in enumerate(KFold(n=X2.shape[0], n_folds=5, random_state=1)):\n",
    "    print('FOLD:',fold_id)\n",
    "    X_train = X3.values[train_idx]\n",
    "    y_train = y3.values[train_idx]\n",
    "    X_valid = X3.values[val_idx]\n",
    "    y_valid =  y3.values[val_idx]\n",
    "    \n",
    "    \n",
    "    lgtrain = lgb.Dataset(X_train, y_train,\n",
    "                feature_name=X3.columns.tolist(),\n",
    "    #             categorical_feature = categorical\n",
    "                         )\n",
    "\n",
    "    lgvalid = lgb.Dataset(X_valid, y_valid,\n",
    "                feature_name=X3.columns.tolist(),\n",
    "    #             categorical_feature = categorical\n",
    "                         )\n",
    "\n",
    "    modelstart = time.time()\n",
    "    lgb_clf = lgb.train(\n",
    "        lgbm_params,\n",
    "        lgtrain,\n",
    "        num_boost_round=30000,\n",
    "        valid_sets=[lgtrain, lgvalid],\n",
    "        valid_names=['train','valid'],\n",
    "        early_stopping_rounds=100,\n",
    "        verbose_eval=100\n",
    "    )\n",
    "    \n",
    "    test_pred = lgb_clf.predict(df3.values)\n",
    "    Y_target.append(np.exp(test_pred)-1)\n",
    "    print('fold finish after', time.time()-modelstart)"
   ]
  },
  {
   "cell_type": "code",
   "execution_count": 49,
   "metadata": {
    "collapsed": false
   },
   "outputs": [],
   "source": [
    "Y_target2 = np.array(Y_target)\n",
    "Y_target2= Y_target2.mean(axis=0)"
   ]
  },
  {
   "cell_type": "code",
   "execution_count": 50,
   "metadata": {
    "collapsed": false
   },
   "outputs": [
    {
     "name": "stdout",
     "output_type": "stream",
     "text": [
      "FOLD: 0\n",
      "Training until validation scores don't improve for 100 rounds.\n",
      "[100]\ttrain's rmse: 1.08805\tvalid's rmse: 1.1253\n",
      "[200]\ttrain's rmse: 1.05092\tvalid's rmse: 1.09391\n",
      "[300]\ttrain's rmse: 1.04183\tvalid's rmse: 1.08797\n",
      "[400]\ttrain's rmse: 1.03855\tvalid's rmse: 1.08667\n",
      "Early stopping, best iteration is:\n",
      "[389]\ttrain's rmse: 1.03881\tvalid's rmse: 1.08661\n",
      "fold finish after 0.3161439895629883\n",
      "FOLD: 1\n",
      "Training until validation scores don't improve for 100 rounds.\n",
      "[100]\ttrain's rmse: 1.0934\tvalid's rmse: 1.10119\n",
      "[200]\ttrain's rmse: 1.05592\tvalid's rmse: 1.07222\n",
      "[300]\ttrain's rmse: 1.04678\tvalid's rmse: 1.0673\n",
      "[400]\ttrain's rmse: 1.04346\tvalid's rmse: 1.06678\n",
      "Early stopping, best iteration is:\n",
      "[383]\ttrain's rmse: 1.04385\tvalid's rmse: 1.06669\n",
      "fold finish after 0.28539371490478516\n",
      "FOLD: 2\n",
      "Training until validation scores don't improve for 100 rounds.\n",
      "[100]\ttrain's rmse: 1.07694\tvalid's rmse: 1.16525\n",
      "[200]\ttrain's rmse: 1.03986\tvalid's rmse: 1.13425\n",
      "[300]\ttrain's rmse: 1.03077\tvalid's rmse: 1.12961\n",
      "[400]\ttrain's rmse: 1.02757\tvalid's rmse: 1.12947\n",
      "Early stopping, best iteration is:\n",
      "[354]\ttrain's rmse: 1.02868\tvalid's rmse: 1.12925\n",
      "fold finish after 0.28215813636779785\n",
      "FOLD: 3\n",
      "Training until validation scores don't improve for 100 rounds.\n",
      "[100]\ttrain's rmse: 1.10354\tvalid's rmse: 1.05608\n",
      "[200]\ttrain's rmse: 1.06644\tvalid's rmse: 1.02737\n",
      "[300]\ttrain's rmse: 1.0574\tvalid's rmse: 1.02383\n",
      "[400]\ttrain's rmse: 1.05415\tvalid's rmse: 1.0237\n",
      "Early stopping, best iteration is:\n",
      "[355]\ttrain's rmse: 1.05524\tvalid's rmse: 1.02359\n",
      "fold finish after 0.37531018257141113\n",
      "FOLD: 4\n",
      "Training until validation scores don't improve for 100 rounds.\n",
      "[100]\ttrain's rmse: 1.10627\tvalid's rmse: 1.05154\n",
      "[200]\ttrain's rmse: 1.07083\tvalid's rmse: 1.01378\n",
      "[300]\ttrain's rmse: 1.06209\tvalid's rmse: 1.00655\n",
      "[400]\ttrain's rmse: 1.05902\tvalid's rmse: 1.00499\n",
      "[500]\ttrain's rmse: 1.05764\tvalid's rmse: 1.00507\n",
      "Early stopping, best iteration is:\n",
      "[442]\ttrain's rmse: 1.05843\tvalid's rmse: 1.00486\n",
      "fold finish after 0.794719934463501\n"
     ]
    }
   ],
   "source": [
    "Y_target = []\n",
    "for fold_id,(train_idx, val_idx) in enumerate(KFold(n=X2.shape[0], n_folds=5, random_state=1)):\n",
    "    print('FOLD:',fold_id)\n",
    "    X_train = X2.values[train_idx]\n",
    "    y_train = y2.values[train_idx]\n",
    "    X_valid = X2.values[val_idx]\n",
    "    y_valid =  y2.values[val_idx]\n",
    "    \n",
    "    \n",
    "    lgtrain = lgb.Dataset(X_train, y_train,\n",
    "                feature_name=X2.columns.tolist(),\n",
    "    #             categorical_feature = categorical\n",
    "                         )\n",
    "\n",
    "    lgvalid = lgb.Dataset(X_valid, y_valid,\n",
    "                feature_name=X2.columns.tolist(),\n",
    "    #             categorical_feature = categorical\n",
    "                         )\n",
    "\n",
    "    modelstart = time.time()\n",
    "    lgb_clf = lgb.train(\n",
    "        lgbm_params,\n",
    "        lgtrain,\n",
    "        num_boost_round=30000,\n",
    "        valid_sets=[lgtrain, lgvalid],\n",
    "        valid_names=['train','valid'],\n",
    "        early_stopping_rounds=100,\n",
    "        verbose_eval=100\n",
    "    )\n",
    "    \n",
    "    test_pred = lgb_clf.predict(df3.values)\n",
    "    Y_target.append(np.exp(test_pred)-1)\n",
    "    print('fold finish after', time.time()-modelstart)"
   ]
  },
  {
   "cell_type": "code",
   "execution_count": 51,
   "metadata": {
    "collapsed": false
   },
   "outputs": [],
   "source": [
    "Y_target3 = np.array(Y_target)\n",
    "Y_target3 = Y_target3.mean(axis=0)"
   ]
  },
  {
   "cell_type": "code",
   "execution_count": 53,
   "metadata": {
    "collapsed": false
   },
   "outputs": [
    {
     "data": {
      "text/html": [
       "<div>\n",
       "<style scoped>\n",
       "    .dataframe tbody tr th:only-of-type {\n",
       "        vertical-align: middle;\n",
       "    }\n",
       "\n",
       "    .dataframe tbody tr th {\n",
       "        vertical-align: top;\n",
       "    }\n",
       "\n",
       "    .dataframe thead th {\n",
       "        text-align: right;\n",
       "    }\n",
       "</style>\n",
       "<table border=\"1\" class=\"dataframe\">\n",
       "  <thead>\n",
       "    <tr style=\"text-align: right;\">\n",
       "      <th></th>\n",
       "      <th>Home</th>\n",
       "      <th>Away</th>\n",
       "      <th>rank_difference</th>\n",
       "      <th>is_stake</th>\n",
       "      <th>is_won</th>\n",
       "      <th>away_score</th>\n",
       "      <th>home_score</th>\n",
       "    </tr>\n",
       "  </thead>\n",
       "  <tbody>\n",
       "    <tr>\n",
       "      <th>0</th>\n",
       "      <td>Denmark</td>\n",
       "      <td>Portugal</td>\n",
       "      <td>8</td>\n",
       "      <td>True</td>\n",
       "      <td>False</td>\n",
       "      <td>1.024212</td>\n",
       "      <td>3.414679</td>\n",
       "    </tr>\n",
       "    <tr>\n",
       "      <th>1</th>\n",
       "      <td>Belgium</td>\n",
       "      <td>Germany</td>\n",
       "      <td>2</td>\n",
       "      <td>True</td>\n",
       "      <td>False</td>\n",
       "      <td>0.994072</td>\n",
       "      <td>3.365196</td>\n",
       "    </tr>\n",
       "  </tbody>\n",
       "</table>\n",
       "</div>"
      ],
      "text/plain": [
       "      Home      Away  rank_difference  is_stake  is_won  away_score  \\\n",
       "0  Denmark  Portugal                8      True   False    1.024212   \n",
       "1  Belgium   Germany                2      True   False    0.994072   \n",
       "\n",
       "   home_score  \n",
       "0    3.414679  \n",
       "1    3.365196  "
      ]
     },
     "execution_count": 53,
     "metadata": {},
     "output_type": "execute_result"
    }
   ],
   "source": [
    "away_score= pd.DataFrame(Y_target2, columns=['away_score']) \n",
    "home_score= pd.DataFrame(Y_target3, columns=['home_score'])\n",
    "df8 = pd.DataFrame(columns=[\"Home\",\"Away\",\"rank_difference\", \"is_stake\",'is_won'], data=[['Denmark', 'Portugal',8,True,False],['Belgium','Germany', 2,True,False]])\n",
    "result2 = pd.concat([df8,away_score,home_score], axis=1)\n",
    "result2"
   ]
  },
  {
   "cell_type": "code",
   "execution_count": null,
   "metadata": {
    "collapsed": true
   },
   "outputs": [],
   "source": []
  }
 ],
 "metadata": {
  "kernelspec": {
   "display_name": "Python 3",
   "language": "python",
   "name": "python3"
  },
  "language_info": {
   "codemirror_mode": {
    "name": "ipython",
    "version": 3
   },
   "file_extension": ".py",
   "mimetype": "text/x-python",
   "name": "python",
   "nbconvert_exporter": "python",
   "pygments_lexer": "ipython3",
   "version": "3.6.0"
  }
 },
 "nbformat": 4,
 "nbformat_minor": 2
}
