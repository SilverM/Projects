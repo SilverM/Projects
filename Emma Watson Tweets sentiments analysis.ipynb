{
 "cells": [
  {
   "cell_type": "markdown",
   "metadata": {},
   "source": [
    "# Emma Watson twitter sentiments analysis"
   ]
  },
  {
   "cell_type": "markdown",
   "metadata": {},
   "source": [
    "### In this notebook I'll be using VADAR as the base package for sentiments analysis "
   ]
  },
  {
   "cell_type": "markdown",
   "metadata": {},
   "source": [
    "### It's christmas season and I just had a marathon of Harry Potter 7 seasons! Watching the cast grew up along the series inspired me to do a review of how they are in real life, and the closest proxy would be Twitter - I selected Emma Watson purely because it's a personal bias :)"
   ]
  },
  {
   "cell_type": "code",
   "execution_count": 3,
   "metadata": {},
   "outputs": [],
   "source": [
    "from tweepy.streaming import StreamListener\n",
    "from tweepy import OAuthHandler\n",
    "from tweepy import Stream\n",
    "import tweepy\n",
    "import json"
   ]
  },
  {
   "cell_type": "code",
   "execution_count": 4,
   "metadata": {},
   "outputs": [],
   "source": [
    "twitter_cred = dict()\n",
    "\n",
    "# Enter your own consumer_key, consumer_secret, access_key and access_secret\n",
    "# Replacing the stars (\"********\")\n",
    "\n",
    "twitter_cred['CONSUMER_KEY'] = 'xx'\n",
    "twitter_cred['CONSUMER_SECRET'] = 'xx'\n",
    "twitter_cred['ACCESS_KEY'] = 'xx'\n",
    "twitter_cred['ACCESS_SECRET'] = 'xx'\n",
    "\n",
    "# Save the information to a json so that it can be reused in code without exposing\n",
    "# the secret info to public\n",
    "\n",
    "with open('twitter_credentials.json', 'w') as secret_info:\n",
    "    json.dump(twitter_cred, secret_info, indent=4, sort_keys=True)"
   ]
  },
  {
   "cell_type": "markdown",
   "metadata": {},
   "source": [
    "### Username search"
   ]
  },
  {
   "cell_type": "code",
   "execution_count": 14,
   "metadata": {},
   "outputs": [
    {
     "name": "stdout",
     "output_type": "stream",
     "text": [
      "Enter the twitter handle of the person whose tweets you want to download:- emmawatson\n",
      "...399 tweets have been downloaded so far\n",
      "...597 tweets have been downloaded so far\n",
      "...793 tweets have been downloaded so far\n",
      "...991 tweets have been downloaded so far\n",
      "...1189 tweets have been downloaded so far\n",
      "...1385 tweets have been downloaded so far\n",
      "...1584 tweets have been downloaded so far\n",
      "...1668 tweets have been downloaded so far\n",
      "...1668 tweets have been downloaded so far\n"
     ]
    }
   ],
   "source": [
    "import tweepy\n",
    "import csv\n",
    "import json\n",
    "\n",
    "# load Twitter API credentials\n",
    "\n",
    "with open('twitter_credentials.json') as cred_data:\n",
    "    info = json.load(cred_data)\n",
    "    consumer_key = info['CONSUMER_KEY']\n",
    "    consumer_secret = info['CONSUMER_SECRET']\n",
    "    access_key = info['ACCESS_KEY']\n",
    "    access_secret = info['ACCESS_SECRET']\n",
    "\n",
    "\n",
    "def get_all_tweets(screen_name):\n",
    "\n",
    "    # Twitter allows access to only 3240 tweets via this method\n",
    "\n",
    "    # Authorization and initialization\n",
    "\n",
    "    auth = tweepy.OAuthHandler(consumer_key, consumer_secret)\n",
    "    auth.set_access_token(access_key, access_secret)\n",
    "    api = tweepy.API(auth)\n",
    "\n",
    "    # initialization of a list to hold all Tweets\n",
    "\n",
    "    all_the_tweets = []\n",
    "\n",
    "    # We will get the tweets with multiple requests of 200 tweets each\n",
    "\n",
    "    new_tweets = api.user_timeline(screen_name=screen_name, count=200)\n",
    "\n",
    "    # saving the most recent tweets\n",
    "\n",
    "    all_the_tweets.extend(new_tweets)\n",
    "\n",
    "    # save id of 1 less than the oldest tweet\n",
    "\n",
    "    oldest_tweet = all_the_tweets[-1].id - 1\n",
    "\n",
    "    # grabbing tweets till none are left\n",
    "\n",
    "    while len(new_tweets) > 0:\n",
    "        # The max_id param will be used subsequently to prevent duplicates\n",
    "        new_tweets = api.user_timeline(screen_name=screen_name,\n",
    "                count=200, max_id=oldest_tweet)\n",
    "\n",
    "        # save most recent tweets\n",
    "\n",
    "        all_the_tweets.extend(new_tweets)\n",
    "\n",
    "        # id is updated to oldest tweet - 1 to keep track\n",
    "\n",
    "        oldest_tweet = all_the_tweets[-1].id - 1\n",
    "        print ('...%s tweets have been downloaded so far' % len(all_the_tweets))\n",
    "\n",
    "    # transforming the tweets into a 2D array that will be used to populate the csv\n",
    "\n",
    "    outtweets = [[tweet.id_str, tweet.created_at,\n",
    "                 tweet.text.encode('utf-8')] for tweet in all_the_tweets]\n",
    "\n",
    "    # writing to the csv file\n",
    "\n",
    "    with open(screen_name + '_tweets.csv', 'w', encoding='utf8') as f:\n",
    "        writer = csv.writer(f)\n",
    "        writer.writerow(['id', 'created_at', 'text'])\n",
    "        writer.writerows(outtweets)\n",
    "\n",
    "\n",
    "if __name__ == '__main__':\n",
    "\n",
    "    # Enter the twitter handle of the person concerned\n",
    "\n",
    "    get_all_tweets(input(\"Enter the twitter handle of the person whose tweets you want to download:- \"))"
   ]
  },
  {
   "cell_type": "markdown",
   "metadata": {},
   "source": [
    "### Image downloads"
   ]
  },
  {
   "cell_type": "code",
   "execution_count": 15,
   "metadata": {},
   "outputs": [],
   "source": [
    "# import tweepy\n",
    "# from tweepy import OAuthHandler\n",
    "# import json\n",
    "# import wget\n",
    "\n",
    "# #Twitter Authentication\n",
    "# with open('twitter_credentials.json') as cred_data:\n",
    "#     info = json.load(cred_data)\n",
    "#     consumer_key = info['CONSUMER_KEY']\n",
    "#     consumer_secret = info['CONSUMER_SECRET']\n",
    "#     access_token = info['ACCESS_KEY']\n",
    "#     access_secret = info['ACCESS_SECRET']\n",
    "\n",
    "# auth = OAuthHandler(consumer_key, consumer_secret)\n",
    "# auth.set_access_token(access_token, access_secret)\n",
    "\n",
    "# #Creating tweepy api\n",
    "# api = tweepy.API(auth)\n",
    "\n",
    "# user = \\\n",
    "#     input(\"Enter twitter user_id - \"\n",
    "#           )\n",
    "\n",
    "# #Getting all tweets\n",
    "# all_tweets = api.user_timeline(screen_name=user, count=200,\n",
    "#                            include_rts=False, exclude_replies=True)\n",
    "\n",
    "# last_tweet_id = all_tweets[-1].id\n",
    "\n",
    "# #Getting more tweets\n",
    "# while True:\n",
    "#     more_tweets = api.user_timeline(screen_name=user, count=200,\n",
    "#                                     include_rts=False,\n",
    "#                                     exclude_replies=True,\n",
    "#                                     max_id=last_tweet_id - 1)\n",
    "\n",
    "#     if len(more_tweets) == 0:\n",
    "#         break\n",
    "#     else:\n",
    "#         last_tweet_id = more_tweets[-1].id - 1\n",
    "#         all_tweets = all_tweets + more_tweets\n",
    "\n",
    "# image_files = set()\n",
    "# for status in all_tweets:\n",
    "#     media = status.entities.get('media', [])\n",
    "#     if len(media) > 0:\n",
    "#         image_files.add(media[0]['media_url'])\n",
    "\n",
    "# print ('Downloading ' + str(len(image_files)) + ' images.....')\n",
    "# for image_file in image_files:\n",
    "#     wget.download(image_file)"
   ]
  },
  {
   "cell_type": "markdown",
   "metadata": {},
   "source": [
    "### Hashtag search"
   ]
  },
  {
   "cell_type": "code",
   "execution_count": 16,
   "metadata": {},
   "outputs": [],
   "source": [
    "# import tweepy\n",
    "# import csv\n",
    "# import json\n",
    "\n",
    "# # Twitter API credentials\n",
    "\n",
    "# with open('twitter_credentials.json') as cred_data:\n",
    "#     info = json.load(cred_data)\n",
    "#     consumer_key = info['CONSUMER_KEY']\n",
    "#     consumer_secret = info['CONSUMER_SECRET']\n",
    "#     access_key = info['ACCESS_KEY']\n",
    "#     access_secret = info['ACCESS_SECRET']\n",
    "\n",
    "# # Create the api endpoint\n",
    "\n",
    "# auth = tweepy.OAuthHandler(consumer_key, consumer_secret)\n",
    "# api = tweepy.API(auth)\n",
    "\n",
    "# # Mention the maximum number of tweets that you want to be extracted.\n",
    "\n",
    "# maximum_number_of_tweets_to_be_extracted = \\\n",
    "#     int(input('Enter the number of tweets that you want to extract- '))\n",
    "\n",
    "# # Mention the hashtag that you want to look out for\n",
    "\n",
    "# hashtag = input('Enter the hashtag you want to scrape- ')\n",
    "\n",
    "# for tweet in tweepy.Cursor(api.search, q='#' + hashtag,\n",
    "#                            rpp=100).items(maximum_number_of_tweets_to_be_extracted):\n",
    "#     with open('tweets_with_hashtag_' + hashtag + '.txt', 'a') as \\\n",
    "#         the_file:\n",
    "#         the_file.write(str(tweet.text.encode('utf-8')) + '\\n')\n",
    "\n",
    "# print ('Extracted ' + str(maximum_number_of_tweets_to_be_extracted) \\\n",
    "#     + ' tweets with hashtag #' + hashtag)"
   ]
  },
  {
   "cell_type": "code",
   "execution_count": 2,
   "metadata": {},
   "outputs": [
    {
     "data": {
      "text/html": [
       "<div>\n",
       "<style scoped>\n",
       "    .dataframe tbody tr th:only-of-type {\n",
       "        vertical-align: middle;\n",
       "    }\n",
       "\n",
       "    .dataframe tbody tr th {\n",
       "        vertical-align: top;\n",
       "    }\n",
       "\n",
       "    .dataframe thead th {\n",
       "        text-align: right;\n",
       "    }\n",
       "</style>\n",
       "<table border=\"1\" class=\"dataframe\">\n",
       "  <thead>\n",
       "    <tr style=\"text-align: right;\">\n",
       "      <th></th>\n",
       "      <th>id</th>\n",
       "      <th>created_at</th>\n",
       "      <th>text</th>\n",
       "    </tr>\n",
       "  </thead>\n",
       "  <tbody>\n",
       "    <tr>\n",
       "      <th>0</th>\n",
       "      <td>1076065380840419328</td>\n",
       "      <td>2018-12-21 10:42:33</td>\n",
       "      <td>b'\\xf0\\x9f\\x90\\xb1 https://t.co/wNDcIE42Qu'</td>\n",
       "    </tr>\n",
       "    <tr>\n",
       "      <th>1</th>\n",
       "      <td>1075841546732359680</td>\n",
       "      <td>2018-12-20 19:53:07</td>\n",
       "      <td>b'RT @TIMESUPNOW: We are relieved that Harvey ...</td>\n",
       "    </tr>\n",
       "    <tr>\n",
       "      <th>2</th>\n",
       "      <td>1075438063776657408</td>\n",
       "      <td>2018-12-19 17:09:49</td>\n",
       "      <td>b'\\xf0\\x9f\\x8e\\xa5\\xe2\\x9d\\xa4\\xef\\xb8\\x8f @Li...</td>\n",
       "    </tr>\n",
       "    <tr>\n",
       "      <th>3</th>\n",
       "      <td>1073610366524014592</td>\n",
       "      <td>2018-12-14 16:07:12</td>\n",
       "      <td>b'RT @freesafelegal: Today we see the culminat...</td>\n",
       "    </tr>\n",
       "    <tr>\n",
       "      <th>4</th>\n",
       "      <td>1073266457058967554</td>\n",
       "      <td>2018-12-13 17:20:38</td>\n",
       "      <td>b'\\xe2\\x80\\x9cI could never love anyone as I l...</td>\n",
       "    </tr>\n",
       "  </tbody>\n",
       "</table>\n",
       "</div>"
      ],
      "text/plain": [
       "                    id           created_at  \\\n",
       "0  1076065380840419328  2018-12-21 10:42:33   \n",
       "1  1075841546732359680  2018-12-20 19:53:07   \n",
       "2  1075438063776657408  2018-12-19 17:09:49   \n",
       "3  1073610366524014592  2018-12-14 16:07:12   \n",
       "4  1073266457058967554  2018-12-13 17:20:38   \n",
       "\n",
       "                                                text  \n",
       "0        b'\\xf0\\x9f\\x90\\xb1 https://t.co/wNDcIE42Qu'  \n",
       "1  b'RT @TIMESUPNOW: We are relieved that Harvey ...  \n",
       "2  b'\\xf0\\x9f\\x8e\\xa5\\xe2\\x9d\\xa4\\xef\\xb8\\x8f @Li...  \n",
       "3  b'RT @freesafelegal: Today we see the culminat...  \n",
       "4  b'\\xe2\\x80\\x9cI could never love anyone as I l...  "
      ]
     },
     "execution_count": 2,
     "metadata": {},
     "output_type": "execute_result"
    }
   ],
   "source": [
    "import pandas as pd\n",
    "df = pd.read_csv('EmmaWatson_tweets.csv')\n",
    "df.head()"
   ]
  },
  {
   "cell_type": "code",
   "execution_count": 3,
   "metadata": {},
   "outputs": [],
   "source": [
    "from vaderSentiment.vaderSentiment import SentimentIntensityAnalyzer\n",
    "analyser = SentimentIntensityAnalyzer()"
   ]
  },
  {
   "cell_type": "code",
   "execution_count": 4,
   "metadata": {},
   "outputs": [],
   "source": [
    "def sentiment_analyzer_scores(sentence):\n",
    "    score = analyser.polarity_scores(sentence)\n",
    "    return score\n",
    "    print(\"{:-<40} {}\".format(sentence, str(score)))"
   ]
  },
  {
   "cell_type": "code",
   "execution_count": 5,
   "metadata": {},
   "outputs": [],
   "source": [
    "# New column text2 to house all the tweet scores\n",
    "df['text2'] = df['text'].apply(sentiment_analyzer_scores)"
   ]
  },
  {
   "cell_type": "code",
   "execution_count": 6,
   "metadata": {},
   "outputs": [],
   "source": [
    "# Function to derive compound values\n",
    "def compound_extraction(sentiment_scores):\n",
    "    return sentiment_scores['compound']\n",
    "    "
   ]
  },
  {
   "cell_type": "code",
   "execution_count": 7,
   "metadata": {},
   "outputs": [],
   "source": [
    "# Selecting items from dictionery\n",
    "# New column text2 to house all the tweet scores\n",
    "df['sentiments'] = df['text2'].apply(compound_extraction)"
   ]
  },
  {
   "cell_type": "code",
   "execution_count": 8,
   "metadata": {},
   "outputs": [
    {
     "data": {
      "text/html": [
       "<div>\n",
       "<style scoped>\n",
       "    .dataframe tbody tr th:only-of-type {\n",
       "        vertical-align: middle;\n",
       "    }\n",
       "\n",
       "    .dataframe tbody tr th {\n",
       "        vertical-align: top;\n",
       "    }\n",
       "\n",
       "    .dataframe thead th {\n",
       "        text-align: right;\n",
       "    }\n",
       "</style>\n",
       "<table border=\"1\" class=\"dataframe\">\n",
       "  <thead>\n",
       "    <tr style=\"text-align: right;\">\n",
       "      <th></th>\n",
       "      <th>id</th>\n",
       "      <th>created_at</th>\n",
       "      <th>text</th>\n",
       "      <th>text2</th>\n",
       "      <th>sentiments</th>\n",
       "    </tr>\n",
       "  </thead>\n",
       "  <tbody>\n",
       "    <tr>\n",
       "      <th>1303</th>\n",
       "      <td>305466086424461312</td>\n",
       "      <td>2013-02-23 23:56:04</td>\n",
       "      <td>b'The Perks of Being a Wallflower just won bes...</td>\n",
       "      <td>{'neg': 0.0, 'neu': 0.456, 'pos': 0.544, 'comp...</td>\n",
       "      <td>0.9741</td>\n",
       "    </tr>\n",
       "    <tr>\n",
       "      <th>1335</th>\n",
       "      <td>286492156913397760</td>\n",
       "      <td>2013-01-02 15:20:27</td>\n",
       "      <td>b'Bit late on the New Years tweet but it was s...</td>\n",
       "      <td>{'neg': 0.0, 'neu': 0.552, 'pos': 0.448, 'comp...</td>\n",
       "      <td>0.9676</td>\n",
       "    </tr>\n",
       "    <tr>\n",
       "      <th>1228</th>\n",
       "      <td>350243571288383489</td>\n",
       "      <td>2013-06-27 13:25:49</td>\n",
       "      <td>b'@Mattdavelewis happy birthday to you happy b...</td>\n",
       "      <td>{'neg': 0.0, 'neu': 0.434, 'pos': 0.566, 'comp...</td>\n",
       "      <td>0.9600</td>\n",
       "    </tr>\n",
       "    <tr>\n",
       "      <th>1602</th>\n",
       "      <td>98101632293806080</td>\n",
       "      <td>2011-08-01 18:43:46</td>\n",
       "      <td>b\"Hi guys, just wanted to say thank you for al...</td>\n",
       "      <td>{'neg': 0.0, 'neu': 0.568, 'pos': 0.432, 'comp...</td>\n",
       "      <td>0.9495</td>\n",
       "    </tr>\n",
       "    <tr>\n",
       "      <th>1666</th>\n",
       "      <td>19073853830</td>\n",
       "      <td>2010-07-21 12:51:24</td>\n",
       "      <td>b\"Thank you for all your lovely (and amusing) ...</td>\n",
       "      <td>{'neg': 0.0, 'neu': 0.548, 'pos': 0.452, 'comp...</td>\n",
       "      <td>0.9492</td>\n",
       "    </tr>\n",
       "  </tbody>\n",
       "</table>\n",
       "</div>"
      ],
      "text/plain": [
       "                      id           created_at  \\\n",
       "1303  305466086424461312  2013-02-23 23:56:04   \n",
       "1335  286492156913397760  2013-01-02 15:20:27   \n",
       "1228  350243571288383489  2013-06-27 13:25:49   \n",
       "1602   98101632293806080  2011-08-01 18:43:46   \n",
       "1666         19073853830  2010-07-21 12:51:24   \n",
       "\n",
       "                                                   text  \\\n",
       "1303  b'The Perks of Being a Wallflower just won bes...   \n",
       "1335  b'Bit late on the New Years tweet but it was s...   \n",
       "1228  b'@Mattdavelewis happy birthday to you happy b...   \n",
       "1602  b\"Hi guys, just wanted to say thank you for al...   \n",
       "1666  b\"Thank you for all your lovely (and amusing) ...   \n",
       "\n",
       "                                                  text2  sentiments  \n",
       "1303  {'neg': 0.0, 'neu': 0.456, 'pos': 0.544, 'comp...      0.9741  \n",
       "1335  {'neg': 0.0, 'neu': 0.552, 'pos': 0.448, 'comp...      0.9676  \n",
       "1228  {'neg': 0.0, 'neu': 0.434, 'pos': 0.566, 'comp...      0.9600  \n",
       "1602  {'neg': 0.0, 'neu': 0.568, 'pos': 0.432, 'comp...      0.9495  \n",
       "1666  {'neg': 0.0, 'neu': 0.548, 'pos': 0.452, 'comp...      0.9492  "
      ]
     },
     "execution_count": 8,
     "metadata": {},
     "output_type": "execute_result"
    }
   ],
   "source": [
    "# top sentiments\n",
    "df.sort_values(by=['sentiments'],ascending = False).head()"
   ]
  },
  {
   "cell_type": "code",
   "execution_count": 9,
   "metadata": {},
   "outputs": [
    {
     "data": {
      "text/html": [
       "<div>\n",
       "<style scoped>\n",
       "    .dataframe tbody tr th:only-of-type {\n",
       "        vertical-align: middle;\n",
       "    }\n",
       "\n",
       "    .dataframe tbody tr th {\n",
       "        vertical-align: top;\n",
       "    }\n",
       "\n",
       "    .dataframe thead th {\n",
       "        text-align: right;\n",
       "    }\n",
       "</style>\n",
       "<table border=\"1\" class=\"dataframe\">\n",
       "  <thead>\n",
       "    <tr style=\"text-align: right;\">\n",
       "      <th></th>\n",
       "      <th>id</th>\n",
       "      <th>created_at</th>\n",
       "      <th>text</th>\n",
       "      <th>text2</th>\n",
       "      <th>sentiments</th>\n",
       "    </tr>\n",
       "  </thead>\n",
       "  <tbody>\n",
       "    <tr>\n",
       "      <th>211</th>\n",
       "      <td>802297413927047168</td>\n",
       "      <td>2016-11-25 23:46:24</td>\n",
       "      <td>b\"RT @UN_Women: For Int'ntl Day to End Violenc...</td>\n",
       "      <td>{'neg': 0.346, 'neu': 0.654, 'pos': 0.0, 'comp...</td>\n",
       "      <td>-0.9029</td>\n",
       "    </tr>\n",
       "    <tr>\n",
       "      <th>964</th>\n",
       "      <td>501467590230044672</td>\n",
       "      <td>2014-08-18 20:36:04</td>\n",
       "      <td>b\"'Suicide is the biggest killer of men betwee...</td>\n",
       "      <td>{'neg': 0.367, 'neu': 0.633, 'pos': 0.0, 'comp...</td>\n",
       "      <td>-0.9001</td>\n",
       "    </tr>\n",
       "    <tr>\n",
       "      <th>719</th>\n",
       "      <td>633675525916073985</td>\n",
       "      <td>2015-08-18 16:23:13</td>\n",
       "      <td>b'Courage is the choice and willingness to con...</td>\n",
       "      <td>{'neg': 0.574, 'neu': 0.338, 'pos': 0.089, 'co...</td>\n",
       "      <td>-0.8885</td>\n",
       "    </tr>\n",
       "    <tr>\n",
       "      <th>291</th>\n",
       "      <td>755446570888364032</td>\n",
       "      <td>2016-07-19 16:57:52</td>\n",
       "      <td>b'RT @liviafirth: Rana Plaza collapse: 38 char...</td>\n",
       "      <td>{'neg': 0.409, 'neu': 0.591, 'pos': 0.0, 'comp...</td>\n",
       "      <td>-0.8658</td>\n",
       "    </tr>\n",
       "    <tr>\n",
       "      <th>196</th>\n",
       "      <td>809762000196739073</td>\n",
       "      <td>2016-12-16 14:08:00</td>\n",
       "      <td>b'RT @HouseofCommons: MPs vote 135 to 2 to app...</td>\n",
       "      <td>{'neg': 0.341, 'neu': 0.659, 'pos': 0.0, 'comp...</td>\n",
       "      <td>-0.8519</td>\n",
       "    </tr>\n",
       "  </tbody>\n",
       "</table>\n",
       "</div>"
      ],
      "text/plain": [
       "                     id           created_at  \\\n",
       "211  802297413927047168  2016-11-25 23:46:24   \n",
       "964  501467590230044672  2014-08-18 20:36:04   \n",
       "719  633675525916073985  2015-08-18 16:23:13   \n",
       "291  755446570888364032  2016-07-19 16:57:52   \n",
       "196  809762000196739073  2016-12-16 14:08:00   \n",
       "\n",
       "                                                  text  \\\n",
       "211  b\"RT @UN_Women: For Int'ntl Day to End Violenc...   \n",
       "964  b\"'Suicide is the biggest killer of men betwee...   \n",
       "719  b'Courage is the choice and willingness to con...   \n",
       "291  b'RT @liviafirth: Rana Plaza collapse: 38 char...   \n",
       "196  b'RT @HouseofCommons: MPs vote 135 to 2 to app...   \n",
       "\n",
       "                                                 text2  sentiments  \n",
       "211  {'neg': 0.346, 'neu': 0.654, 'pos': 0.0, 'comp...     -0.9029  \n",
       "964  {'neg': 0.367, 'neu': 0.633, 'pos': 0.0, 'comp...     -0.9001  \n",
       "719  {'neg': 0.574, 'neu': 0.338, 'pos': 0.089, 'co...     -0.8885  \n",
       "291  {'neg': 0.409, 'neu': 0.591, 'pos': 0.0, 'comp...     -0.8658  \n",
       "196  {'neg': 0.341, 'neu': 0.659, 'pos': 0.0, 'comp...     -0.8519  "
      ]
     },
     "execution_count": 9,
     "metadata": {},
     "output_type": "execute_result"
    }
   ],
   "source": [
    "# worse sentiments\n",
    "df.sort_values(by=['sentiments'],ascending = True).head()"
   ]
  },
  {
   "cell_type": "code",
   "execution_count": 10,
   "metadata": {},
   "outputs": [
    {
     "data": {
      "text/plain": [
       "1303    b'The Perks of Being a Wallflower just won best first feature at the Independent Spirit Awards and I am SO proud. I love our movie so much : )'\n",
       "1335       b'Bit late on the New Years tweet but it was so blissful forgetting about my phone for a while. Happy New Years fellow squawkers. Much love'\n",
       "1228                b'@Mattdavelewis happy birthday to you happy birthday to you happy birthday dear Matt happy birthday to you !!! \\xf0\\x9f\\x90\\xa5Xx'\n",
       "1602    b\"Hi guys, just wanted to say thank you for all the messages about how much you liked DH2. I'm so happy with it - a worthy end! Enjoy summer!x\"\n",
       "1666         b\"Thank you for all your lovely (and amusing) messages! It's official: I have the best fans! I'm loving the London sunshine today, Emma x\"\n",
       "Name: text, dtype: object"
      ]
     },
     "execution_count": 10,
     "metadata": {},
     "output_type": "execute_result"
    }
   ],
   "source": [
    "# examining text for top sentiments from Emma Watson\n",
    "pd.options.display.max_colwidth = 200\n",
    "df.sort_values(by=['sentiments'],ascending = False).head()['text']"
   ]
  },
  {
   "cell_type": "code",
   "execution_count": 82,
   "metadata": {},
   "outputs": [
    {
     "name": "stderr",
     "output_type": "stream",
     "text": [
      "/Users/soonleqi/anaconda3/lib/python3.6/site-packages/ipykernel_launcher.py:13: SettingWithCopyWarning: \n",
      "A value is trying to be set on a copy of a slice from a DataFrame.\n",
      "Try using .loc[row_indexer,col_indexer] = value instead\n",
      "\n",
      "See the caveats in the documentation: http://pandas.pydata.org/pandas-docs/stable/indexing.html#indexing-view-versus-copy\n",
      "  del sys.path[0]\n"
     ]
    }
   ],
   "source": [
    "# filter time period\n",
    "start = 2015\n",
    "end = 2018\n",
    "df2 = df\n",
    "df2['date2']= pd.to_datetime(df['created_at'])\n",
    "\n",
    "def extract_year(i):\n",
    "    return i.year\n",
    "# extract year from datetime\n",
    "df['date']= df['date2'].apply(extract_year)\n",
    "\n",
    "df3 = df2[df2['date'].between(start, end, inclusive=True)]\n",
    "df3['month_year'] = pd.to_datetime(df3['date2'])"
   ]
  },
  {
   "cell_type": "markdown",
   "metadata": {},
   "source": [
    "## Plotting the sentiments level from 2015 - 2018"
   ]
  },
  {
   "cell_type": "code",
   "execution_count": 83,
   "metadata": {},
   "outputs": [
    {
     "data": {
      "image/png": "[encoded data removed]",
      "text/plain": [
       "<Figure size 1600x400 with 1 Axes>"
      ]
     },
     "metadata": {},
     "output_type": "display_data"
    }
   ],
   "source": [
    "import matplotlib.pyplot as plt\n",
    "from matplotlib.dates import DateFormatter\n",
    "\n",
    "fig=plt.figure(figsize=(20, 5), dpi= 80, facecolor='yellow', edgecolor='w')\n",
    "\n",
    "plt.plot(df3['month_year'], df3['sentiments'], color='blue')\n",
    "plt.xlabel('Tweet date')\n",
    "plt.ylabel('Sentiment ratings')\n",
    "plt.title('Emma Watson from {} to {}'.format(start,end))\n",
    "myFmt = DateFormatter(\"%m/%d\") \n",
    "plt.xticks(rotation=75)\n",
    "\n",
    "plt.show();"
   ]
  },
  {
   "cell_type": "code",
   "execution_count": 84,
   "metadata": {},
   "outputs": [],
   "source": [
    "very_neg = len(df3[(df3['sentiments'] < -0.5)])\n",
    "neg = len(df3[(df3['sentiments'] >= -0.5) & (df3['sentiments'] < 0)])\n",
    "very_pos = len(df3[(df3['sentiments'] > 0.5)])\n",
    "pos= len(df3[(df3['sentiments'] > 0) & (df3['sentiments'] <= 0.5)])"
   ]
  },
  {
   "cell_type": "code",
   "execution_count": 102,
   "metadata": {},
   "outputs": [
    {
     "data": {
      "image/png": "[encoded data removed]",
      "text/plain": [
       "<Figure size 640x480 with 1 Axes>"
      ]
     },
     "metadata": {},
     "output_type": "display_data"
    }
   ],
   "source": [
    "import matplotlib.pyplot as plt; plt.rcdefaults()\n",
    "import numpy as np\n",
    "import matplotlib.pyplot as plt\n",
    "\n",
    "objects = ('very_neg', 'neg', 'pos', 'very_pos')\n",
    "y_pos = np.arange(len(objects))\n",
    "performance = [very_neg,neg,pos,very_pos]\n",
    "    \n",
    "fig, ax = plt.subplots()    \n",
    "width = 0.75 # the width of the bars \n",
    "ax.barh(y_pos, performance, width, color=\"blue\")\n",
    "ax.set_yticks(y_pos+width/2)\n",
    "ax.set_yticklabels(objects, minor=False)    \n",
    "\n",
    "for i, v in enumerate(performance):\n",
    "    ax.text(v + 3, i + .25, str(v), color='blue', fontweight='bold')\n",
    "\n",
    "\n",
    "# plt.barh(y_pos, performance, align='center', alpha=0.5)\n",
    "# plt.yticks(y_pos, objects)\n",
    "plt.xlabel('No. of tweets')\n",
    "plt.title('Tweets sentiments from {} to {}'.format(start,end))\n",
    "plt.show()"
   ]
  },
  {
   "cell_type": "markdown",
   "metadata": {},
   "source": [
    "### As we can see, from 2015-2018. Emma Watson's tweets are way more positive than negative. Further examination can be done on what types of postivity does she tweet but it's probably unnecessary, knowing that she has received positive reviews as a feminism ambassador & has acheived huge sucesses in mega box office movies."
   ]
  }
 ],
 "metadata": {
  "kernelspec": {
   "display_name": "Python 3",
   "language": "python",
   "name": "python3"
  },
  "language_info": {
   "codemirror_mode": {
    "name": "ipython",
    "version": 3
   },
   "file_extension": ".py",
   "mimetype": "text/x-python",
   "name": "python",
   "nbconvert_exporter": "python",
   "pygments_lexer": "ipython3",
   "version": "3.6.5"
  }
 },
 "nbformat": 4,
 "nbformat_minor": 2
}
