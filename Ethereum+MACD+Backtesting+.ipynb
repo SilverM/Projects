{
 "cells": [
  {
   "cell_type": "markdown",
   "metadata": {},
   "source": [
    "# Cryptocurrency Investment Strategy\n",
    "### Previously, I was involved in the cryptocurrency field, in part due to the craze that caught my attention. I do believe that the value of these currencies are probably not justified at this point in time. However, I believe there’s still an opportunity to make some profits with these currencies by trading them.\n",
    "\n",
    "### Hence, I will try to cover trading strategies as and when I can to show what works and what doesn't.\n",
    "\n",
    "### Strategy:\n",
    "> Moving Average Crossover Trading Strategy Backtest (MACD)"
   ]
  },
  {
   "cell_type": "code",
   "execution_count": 1,
   "metadata": {
    "collapsed": true
   },
   "outputs": [],
   "source": [
    "import numpy as np # linear algebra\n",
    "import pandas as pd # data processing, CSV file I/O (e.g. pd.read_csv)"
   ]
  },
  {
   "cell_type": "code",
   "execution_count": 2,
   "metadata": {
    "collapsed": false
   },
   "outputs": [
    {
     "data": {
      "text/html": [
       "<div>\n",
       "<style scoped>\n",
       "    .dataframe tbody tr th:only-of-type {\n",
       "        vertical-align: middle;\n",
       "    }\n",
       "\n",
       "    .dataframe tbody tr th {\n",
       "        vertical-align: top;\n",
       "    }\n",
       "\n",
       "    .dataframe thead th {\n",
       "        text-align: right;\n",
       "    }\n",
       "</style>\n",
       "<table border=\"1\" class=\"dataframe\">\n",
       "  <thead>\n",
       "    <tr style=\"text-align: right;\">\n",
       "      <th></th>\n",
       "      <th>Unnamed: 0</th>\n",
       "      <th>Date</th>\n",
       "      <th>Symbol</th>\n",
       "      <th>Open</th>\n",
       "      <th>High</th>\n",
       "      <th>Low</th>\n",
       "      <th>Close</th>\n",
       "      <th>Volume</th>\n",
       "      <th>Market Cap</th>\n",
       "    </tr>\n",
       "  </thead>\n",
       "  <tbody>\n",
       "    <tr>\n",
       "      <th>0</th>\n",
       "      <td>0</td>\n",
       "      <td>2015-11-12</td>\n",
       "      <td>$$$</td>\n",
       "      <td>0.000013</td>\n",
       "      <td>0.000017</td>\n",
       "      <td>0.000013</td>\n",
       "      <td>0.000017</td>\n",
       "      <td>142.0</td>\n",
       "      <td>NaN</td>\n",
       "    </tr>\n",
       "    <tr>\n",
       "      <th>1</th>\n",
       "      <td>1</td>\n",
       "      <td>2015-11-13</td>\n",
       "      <td>$$$</td>\n",
       "      <td>0.000017</td>\n",
       "      <td>0.000033</td>\n",
       "      <td>0.000016</td>\n",
       "      <td>0.000024</td>\n",
       "      <td>85.0</td>\n",
       "      <td>NaN</td>\n",
       "    </tr>\n",
       "    <tr>\n",
       "      <th>2</th>\n",
       "      <td>2</td>\n",
       "      <td>2015-11-14</td>\n",
       "      <td>$$$</td>\n",
       "      <td>0.000024</td>\n",
       "      <td>0.000053</td>\n",
       "      <td>0.000023</td>\n",
       "      <td>0.000030</td>\n",
       "      <td>131.0</td>\n",
       "      <td>NaN</td>\n",
       "    </tr>\n",
       "    <tr>\n",
       "      <th>3</th>\n",
       "      <td>3</td>\n",
       "      <td>2015-11-15</td>\n",
       "      <td>$$$</td>\n",
       "      <td>0.000030</td>\n",
       "      <td>0.000063</td>\n",
       "      <td>0.000022</td>\n",
       "      <td>0.000035</td>\n",
       "      <td>132.0</td>\n",
       "      <td>NaN</td>\n",
       "    </tr>\n",
       "    <tr>\n",
       "      <th>4</th>\n",
       "      <td>4</td>\n",
       "      <td>2015-11-16</td>\n",
       "      <td>$$$</td>\n",
       "      <td>0.000035</td>\n",
       "      <td>0.000046</td>\n",
       "      <td>0.000032</td>\n",
       "      <td>0.000036</td>\n",
       "      <td>280.0</td>\n",
       "      <td>NaN</td>\n",
       "    </tr>\n",
       "  </tbody>\n",
       "</table>\n",
       "</div>"
      ],
      "text/plain": [
       "   Unnamed: 0        Date Symbol      Open      High       Low     Close  \\\n",
       "0           0  2015-11-12    $$$  0.000013  0.000017  0.000013  0.000017   \n",
       "1           1  2015-11-13    $$$  0.000017  0.000033  0.000016  0.000024   \n",
       "2           2  2015-11-14    $$$  0.000024  0.000053  0.000023  0.000030   \n",
       "3           3  2015-11-15    $$$  0.000030  0.000063  0.000022  0.000035   \n",
       "4           4  2015-11-16    $$$  0.000035  0.000046  0.000032  0.000036   \n",
       "\n",
       "   Volume  Market Cap  \n",
       "0   142.0         NaN  \n",
       "1    85.0         NaN  \n",
       "2   131.0         NaN  \n",
       "3   132.0         NaN  \n",
       "4   280.0         NaN  "
      ]
     },
     "execution_count": 2,
     "metadata": {},
     "output_type": "execute_result"
    }
   ],
   "source": [
    "df = pd.read_csv(\"/Users/soonleqi/Downloads/all_currencies.csv\")\n",
    "df.head()"
   ]
  },
  {
   "cell_type": "code",
   "execution_count": 4,
   "metadata": {
    "collapsed": false
   },
   "outputs": [
    {
     "data": {
      "text/html": [
       "<div>\n",
       "<style scoped>\n",
       "    .dataframe tbody tr th:only-of-type {\n",
       "        vertical-align: middle;\n",
       "    }\n",
       "\n",
       "    .dataframe tbody tr th {\n",
       "        vertical-align: top;\n",
       "    }\n",
       "\n",
       "    .dataframe thead th {\n",
       "        text-align: right;\n",
       "    }\n",
       "</style>\n",
       "<table border=\"1\" class=\"dataframe\">\n",
       "  <thead>\n",
       "    <tr style=\"text-align: right;\">\n",
       "      <th></th>\n",
       "      <th>Unnamed: 0</th>\n",
       "      <th>Date</th>\n",
       "      <th>Symbol</th>\n",
       "      <th>Open</th>\n",
       "      <th>High</th>\n",
       "      <th>Low</th>\n",
       "      <th>Close</th>\n",
       "      <th>Volume</th>\n",
       "      <th>Market Cap</th>\n",
       "    </tr>\n",
       "  </thead>\n",
       "  <tbody>\n",
       "    <tr>\n",
       "      <th>0</th>\n",
       "      <td>29</td>\n",
       "      <td>2015-12-11</td>\n",
       "      <td>$$$</td>\n",
       "      <td>0.000050</td>\n",
       "      <td>0.000050</td>\n",
       "      <td>0.000022</td>\n",
       "      <td>0.000027</td>\n",
       "      <td>1.0</td>\n",
       "      <td>2287.0</td>\n",
       "    </tr>\n",
       "    <tr>\n",
       "      <th>1</th>\n",
       "      <td>30</td>\n",
       "      <td>2015-12-12</td>\n",
       "      <td>$$$</td>\n",
       "      <td>0.000027</td>\n",
       "      <td>0.000044</td>\n",
       "      <td>0.000021</td>\n",
       "      <td>0.000043</td>\n",
       "      <td>0.0</td>\n",
       "      <td>1245.0</td>\n",
       "    </tr>\n",
       "    <tr>\n",
       "      <th>2</th>\n",
       "      <td>31</td>\n",
       "      <td>2015-12-13</td>\n",
       "      <td>$$$</td>\n",
       "      <td>0.000043</td>\n",
       "      <td>0.000044</td>\n",
       "      <td>0.000022</td>\n",
       "      <td>0.000022</td>\n",
       "      <td>2.0</td>\n",
       "      <td>1996.0</td>\n",
       "    </tr>\n",
       "    <tr>\n",
       "      <th>3</th>\n",
       "      <td>32</td>\n",
       "      <td>2015-12-14</td>\n",
       "      <td>$$$</td>\n",
       "      <td>0.000022</td>\n",
       "      <td>0.000022</td>\n",
       "      <td>0.000022</td>\n",
       "      <td>0.000022</td>\n",
       "      <td>3.0</td>\n",
       "      <td>994.0</td>\n",
       "    </tr>\n",
       "    <tr>\n",
       "      <th>4</th>\n",
       "      <td>33</td>\n",
       "      <td>2015-12-15</td>\n",
       "      <td>$$$</td>\n",
       "      <td>0.000022</td>\n",
       "      <td>0.000023</td>\n",
       "      <td>0.000022</td>\n",
       "      <td>0.000023</td>\n",
       "      <td>2.0</td>\n",
       "      <td>1018.0</td>\n",
       "    </tr>\n",
       "  </tbody>\n",
       "</table>\n",
       "</div>"
      ],
      "text/plain": [
       "   Unnamed: 0        Date Symbol      Open      High       Low     Close  \\\n",
       "0          29  2015-12-11    $$$  0.000050  0.000050  0.000022  0.000027   \n",
       "1          30  2015-12-12    $$$  0.000027  0.000044  0.000021  0.000043   \n",
       "2          31  2015-12-13    $$$  0.000043  0.000044  0.000022  0.000022   \n",
       "3          32  2015-12-14    $$$  0.000022  0.000022  0.000022  0.000022   \n",
       "4          33  2015-12-15    $$$  0.000022  0.000023  0.000022  0.000023   \n",
       "\n",
       "   Volume  Market Cap  \n",
       "0     1.0      2287.0  \n",
       "1     0.0      1245.0  \n",
       "2     2.0      1996.0  \n",
       "3     3.0       994.0  \n",
       "4     2.0      1018.0  "
      ]
     },
     "execution_count": 4,
     "metadata": {},
     "output_type": "execute_result"
    }
   ],
   "source": [
    "# Remove all NaN values in Market Cap column\n",
    "df2=df.dropna(subset=['Market Cap'])\n",
    "df2.reset_index(drop = True, inplace = True)\n",
    "df2.head()"
   ]
  },
  {
   "cell_type": "code",
   "execution_count": 5,
   "metadata": {
    "collapsed": true
   },
   "outputs": [],
   "source": [
    "# Top 20 cryptocurrencies in market\n",
    "Top_20_coins=df2.sort_values(['Date','Market Cap'], ascending = False).head(20)"
   ]
  },
  {
   "cell_type": "code",
   "execution_count": 6,
   "metadata": {
    "collapsed": false
   },
   "outputs": [
    {
     "data": {
      "text/html": [
       "<div>\n",
       "<style scoped>\n",
       "    .dataframe tbody tr th:only-of-type {\n",
       "        vertical-align: middle;\n",
       "    }\n",
       "\n",
       "    .dataframe tbody tr th {\n",
       "        vertical-align: top;\n",
       "    }\n",
       "\n",
       "    .dataframe thead th {\n",
       "        text-align: right;\n",
       "    }\n",
       "</style>\n",
       "<table border=\"1\" class=\"dataframe\">\n",
       "  <thead>\n",
       "    <tr style=\"text-align: right;\">\n",
       "      <th></th>\n",
       "      <th>Unnamed: 0</th>\n",
       "      <th>Date</th>\n",
       "      <th>Symbol</th>\n",
       "      <th>Open</th>\n",
       "      <th>High</th>\n",
       "      <th>Low</th>\n",
       "      <th>Close</th>\n",
       "      <th>Volume</th>\n",
       "      <th>Market Cap</th>\n",
       "    </tr>\n",
       "  </thead>\n",
       "  <tbody>\n",
       "    <tr>\n",
       "      <th>75904</th>\n",
       "      <td>1861</td>\n",
       "      <td>2018-06-02</td>\n",
       "      <td>BTC</td>\n",
       "      <td>7536.720000</td>\n",
       "      <td>7695.830000</td>\n",
       "      <td>7497.260000</td>\n",
       "      <td>7643.450000</td>\n",
       "      <td>4.939300e+09</td>\n",
       "      <td>1.286450e+11</td>\n",
       "    </tr>\n",
       "    <tr>\n",
       "      <th>181767</th>\n",
       "      <td>1030</td>\n",
       "      <td>2018-06-02</td>\n",
       "      <td>ETH</td>\n",
       "      <td>580.430000</td>\n",
       "      <td>597.080000</td>\n",
       "      <td>577.320000</td>\n",
       "      <td>591.810000</td>\n",
       "      <td>1.880390e+09</td>\n",
       "      <td>5.793290e+10</td>\n",
       "    </tr>\n",
       "    <tr>\n",
       "      <th>542248</th>\n",
       "      <td>1763</td>\n",
       "      <td>2018-06-02</td>\n",
       "      <td>XRP</td>\n",
       "      <td>0.623462</td>\n",
       "      <td>0.648982</td>\n",
       "      <td>0.619477</td>\n",
       "      <td>0.643451</td>\n",
       "      <td>3.152060e+08</td>\n",
       "      <td>2.446560e+10</td>\n",
       "    </tr>\n",
       "    <tr>\n",
       "      <th>42017</th>\n",
       "      <td>314</td>\n",
       "      <td>2018-06-02</td>\n",
       "      <td>BCH</td>\n",
       "      <td>1003.330000</td>\n",
       "      <td>1093.860000</td>\n",
       "      <td>996.590000</td>\n",
       "      <td>1084.780000</td>\n",
       "      <td>6.891210e+08</td>\n",
       "      <td>1.721740e+10</td>\n",
       "    </tr>\n",
       "    <tr>\n",
       "      <th>283744</th>\n",
       "      <td>1861</td>\n",
       "      <td>2018-06-02</td>\n",
       "      <td>LTC</td>\n",
       "      <td>119.830000</td>\n",
       "      <td>123.890000</td>\n",
       "      <td>118.950000</td>\n",
       "      <td>123.310000</td>\n",
       "      <td>3.108000e+08</td>\n",
       "      <td>6.805430e+09</td>\n",
       "    </tr>\n",
       "  </tbody>\n",
       "</table>\n",
       "</div>"
      ],
      "text/plain": [
       "        Unnamed: 0        Date Symbol         Open         High          Low  \\\n",
       "75904         1861  2018-06-02    BTC  7536.720000  7695.830000  7497.260000   \n",
       "181767        1030  2018-06-02    ETH   580.430000   597.080000   577.320000   \n",
       "542248        1763  2018-06-02    XRP     0.623462     0.648982     0.619477   \n",
       "42017          314  2018-06-02    BCH  1003.330000  1093.860000   996.590000   \n",
       "283744        1861  2018-06-02    LTC   119.830000   123.890000   118.950000   \n",
       "\n",
       "              Close        Volume    Market Cap  \n",
       "75904   7643.450000  4.939300e+09  1.286450e+11  \n",
       "181767   591.810000  1.880390e+09  5.793290e+10  \n",
       "542248     0.643451  3.152060e+08  2.446560e+10  \n",
       "42017   1084.780000  6.891210e+08  1.721740e+10  \n",
       "283744   123.310000  3.108000e+08  6.805430e+09  "
      ]
     },
     "execution_count": 6,
     "metadata": {},
     "output_type": "execute_result"
    }
   ],
   "source": [
    "Top_20_coins.head()"
   ]
  },
  {
   "cell_type": "code",
   "execution_count": 7,
   "metadata": {
    "collapsed": false
   },
   "outputs": [
    {
     "data": {
      "text/plain": [
       "20"
      ]
     },
     "execution_count": 7,
     "metadata": {},
     "output_type": "execute_result"
    }
   ],
   "source": [
    "len(Top_20_coins['Symbol'].unique())"
   ]
  },
  {
   "cell_type": "markdown",
   "metadata": {},
   "source": [
    "# Overall Market Capitalization of Cryptocurrencies"
   ]
  },
  {
   "cell_type": "code",
   "execution_count": 8,
   "metadata": {
    "collapsed": false
   },
   "outputs": [
    {
     "name": "stderr",
     "output_type": "stream",
     "text": [
      "/Users/soonleqi/anaconda/lib/python3.6/site-packages/matplotlib/__init__.py:913: UserWarning: axes.color_cycle is deprecated and replaced with axes.prop_cycle; please use the latter.\n",
      "  warnings.warn(self.msg_depr % (key, alt_key))\n"
     ]
    },
    {
     "data": {
      "text/html": [
       "<script>requirejs.config({paths: { 'plotly': ['https://cdn.plot.ly/plotly-latest.min']},});if(!window.Plotly) {{require(['plotly'],function(plotly) {window.Plotly=plotly;});}}</script>"
      ],
      "text/vnd.plotly.v1+html": [
       "<script>requirejs.config({paths: { 'plotly': ['https://cdn.plot.ly/plotly-latest.min']},});if(!window.Plotly) {{require(['plotly'],function(plotly) {window.Plotly=plotly;});}}</script>"
      ]
     },
     "metadata": {},
     "output_type": "display_data"
    },
    {
     "data": {
      "application/vnd.plotly.v1+json": {
       "data": [
        {
         "marker": {
          "color": "rgba(55, 128, 191, 0.7)",
          "line": {
           "color": "rgba(55, 128, 191, 1.0)",
           "width": 2
          }
         },
         "name": "Country Overall",
         "type": "bar",
         "x": [
          "BTC",
          "ETH",
          "XRP",
          "BCH",
          "LTC",
          "ADA",
          "XLM",
          "MIOTA",
          "NEO",
          "DASH",
          "XMR",
          "XEM",
          "ETC",
          "QTUM",
          "BCN",
          "ZEC",
          "LSK",
          "BTG",
          "DCR",
          "STEEM"
         ],
         "y": [
          128645000000,
          57932900000,
          24465600000,
          17217400000,
          6805430000,
          5773980000,
          5405840000,
          5368130000,
          3615890000,
          2555530000,
          2535650000,
          2288470000,
          1580780000,
          1281870000,
          1184830000,
          974410000,
          917820000,
          747222000,
          688867000,
          617966000
         ]
        }
       ],
       "layout": {
        "barmode": "stack",
        "height": 500,
        "legend": {
         "x": 0.05,
         "y": 0.05
        },
        "paper_bgcolor": "rgb(244, 238, 225)",
        "plot_bgcolor": "rgb(244, 238, 225)",
        "title": "Market capitalization across cryptos",
        "titlefont": {
         "size": 25
        },
        "width": 850,
        "xaxis": {
         "title": "Coin"
        },
        "yaxis": {
         "anchor": "x",
         "rangemode": "tozero",
         "title": "Market Cap"
        },
        "yaxis2": {
         "anchor": "x",
         "dtick": 200,
         "overlaying": "y",
         "rangemode": "tozero",
         "side": "right",
         "tickfont": {
          "color": "rgb(148, 103, 189)"
         },
         "title": "Country Value [M€]",
         "titlefont": {
          "color": "rgb(148, 103, 189)"
         }
        }
       }
      },
      "text/html": [
       "<div id=\"8b620b0e-3cd6-41ee-a493-18bd03021a63\" style=\"height: 500px; width: 850px;\" class=\"plotly-graph-div\"></div><script type=\"text/javascript\">require([\"plotly\"], function(Plotly) { window.PLOTLYENV=window.PLOTLYENV || {};window.PLOTLYENV.BASE_URL=\"https://plot.ly\";Plotly.newPlot(\"8b620b0e-3cd6-41ee-a493-18bd03021a63\", [{\"type\": \"bar\", \"x\": [\"BTC\", \"ETH\", \"XRP\", \"BCH\", \"LTC\", \"ADA\", \"XLM\", \"MIOTA\", \"NEO\", \"DASH\", \"XMR\", \"XEM\", \"ETC\", \"QTUM\", \"BCN\", \"ZEC\", \"LSK\", \"BTG\", \"DCR\", \"STEEM\"], \"y\": [128645000000.0, 57932900000.0, 24465600000.0, 17217400000.0, 6805430000.0, 5773980000.0, 5405840000.0, 5368130000.0, 3615890000.0, 2555530000.0, 2535650000.0, 2288470000.0, 1580780000.0, 1281870000.0, 1184830000.0, 974410000.0, 917820000.0, 747222000.0, 688867000.0, 617966000.0], \"name\": \"Country Overall\", \"marker\": {\"color\": \"rgba(55, 128, 191, 0.7)\", \"line\": {\"color\": \"rgba(55, 128, 191, 1.0)\", \"width\": 2}}}], {\"barmode\": \"stack\", \"title\": \"Market capitalization across cryptos\", \"titlefont\": {\"size\": 25}, \"width\": 850, \"height\": 500, \"paper_bgcolor\": \"rgb(244, 238, 225)\", \"plot_bgcolor\": \"rgb(244, 238, 225)\", \"yaxis\": {\"title\": \"Market Cap\", \"anchor\": \"x\", \"rangemode\": \"tozero\"}, \"xaxis\": {\"title\": \"Coin\"}, \"yaxis2\": {\"title\": \"Country Value [M\\u20ac]\", \"titlefont\": {\"color\": \"rgb(148, 103, 189)\"}, \"tickfont\": {\"color\": \"rgb(148, 103, 189)\"}, \"overlaying\": \"y\", \"side\": \"right\", \"anchor\": \"x\", \"rangemode\": \"tozero\", \"dtick\": 200}, \"legend\": {\"x\": 0.05, \"y\": 0.05}}, {\"showLink\": true, \"linkText\": \"Export to plot.ly\"})});</script>"
      ],
      "text/vnd.plotly.v1+html": [
       "<div id=\"8b620b0e-3cd6-41ee-a493-18bd03021a63\" style=\"height: 500px; width: 850px;\" class=\"plotly-graph-div\"></div><script type=\"text/javascript\">require([\"plotly\"], function(Plotly) { window.PLOTLYENV=window.PLOTLYENV || {};window.PLOTLYENV.BASE_URL=\"https://plot.ly\";Plotly.newPlot(\"8b620b0e-3cd6-41ee-a493-18bd03021a63\", [{\"type\": \"bar\", \"x\": [\"BTC\", \"ETH\", \"XRP\", \"BCH\", \"LTC\", \"ADA\", \"XLM\", \"MIOTA\", \"NEO\", \"DASH\", \"XMR\", \"XEM\", \"ETC\", \"QTUM\", \"BCN\", \"ZEC\", \"LSK\", \"BTG\", \"DCR\", \"STEEM\"], \"y\": [128645000000.0, 57932900000.0, 24465600000.0, 17217400000.0, 6805430000.0, 5773980000.0, 5405840000.0, 5368130000.0, 3615890000.0, 2555530000.0, 2535650000.0, 2288470000.0, 1580780000.0, 1281870000.0, 1184830000.0, 974410000.0, 917820000.0, 747222000.0, 688867000.0, 617966000.0], \"name\": \"Country Overall\", \"marker\": {\"color\": \"rgba(55, 128, 191, 0.7)\", \"line\": {\"color\": \"rgba(55, 128, 191, 1.0)\", \"width\": 2}}}], {\"barmode\": \"stack\", \"title\": \"Market capitalization across cryptos\", \"titlefont\": {\"size\": 25}, \"width\": 850, \"height\": 500, \"paper_bgcolor\": \"rgb(244, 238, 225)\", \"plot_bgcolor\": \"rgb(244, 238, 225)\", \"yaxis\": {\"title\": \"Market Cap\", \"anchor\": \"x\", \"rangemode\": \"tozero\"}, \"xaxis\": {\"title\": \"Coin\"}, \"yaxis2\": {\"title\": \"Country Value [M\\u20ac]\", \"titlefont\": {\"color\": \"rgb(148, 103, 189)\"}, \"tickfont\": {\"color\": \"rgb(148, 103, 189)\"}, \"overlaying\": \"y\", \"side\": \"right\", \"anchor\": \"x\", \"rangemode\": \"tozero\", \"dtick\": 200}, \"legend\": {\"x\": 0.05, \"y\": 0.05}}, {\"showLink\": true, \"linkText\": \"Export to plot.ly\"})});</script>"
      ]
     },
     "metadata": {},
     "output_type": "display_data"
    }
   ],
   "source": [
    "import seaborn as sns\n",
    "import matplotlib.pyplot as plt\n",
    "%matplotlib inline\n",
    "\n",
    "import plotly.offline as py\n",
    "py.init_notebook_mode(connected=True)\n",
    "import plotly.graph_objs as go\n",
    "import plotly.tools as tls\n",
    "\n",
    "trace1 = go.Bar(\n",
    "    x = Top_20_coins[\"Symbol\"].tolist(),\n",
    "    y = Top_20_coins[\"Market Cap\"].tolist(),\n",
    "    name='Country Overall',\n",
    "    marker=dict(\n",
    "        color='rgba(55, 128, 191, 0.7)',\n",
    "        line=dict(\n",
    "            color='rgba(55, 128, 191, 1.0)',\n",
    "            width=2,\n",
    "        )\n",
    "    )\n",
    ")\n",
    "\n",
    "layout = go.Layout(\n",
    "    barmode='stack',\n",
    "    title = 'Market capitalization across cryptos',\n",
    "    titlefont=dict(size=25),\n",
    "    width=850,\n",
    "    height=500,\n",
    "    paper_bgcolor='rgb(244, 238, 225)',\n",
    "    plot_bgcolor='rgb(244, 238, 225)',\n",
    "    yaxis = dict(\n",
    "        title= 'Market Cap',\n",
    "        anchor = 'x',\n",
    "        rangemode='tozero'\n",
    "    ),\n",
    "    xaxis = dict(title= 'Coin'),\n",
    "    yaxis2=dict(\n",
    "        title='Country Value [M€]',\n",
    "        titlefont=dict(\n",
    "            color='rgb(148, 103, 189)'\n",
    "        ),\n",
    "        tickfont=dict(\n",
    "            color='rgb(148, 103, 189)'\n",
    "        ),\n",
    "        overlaying='y',\n",
    "        side='right',\n",
    "        anchor = 'x',\n",
    "        rangemode = 'tozero',\n",
    "        dtick = 200\n",
    "    ),\n",
    "    #legend=dict(x=-.1, y=1.2)\n",
    "    legend=dict(x=0.05, y=0.05)\n",
    ")\n",
    "data = [trace1]\n",
    "fig = go.Figure(data=data, layout=layout)\n",
    "py.iplot(fig)"
   ]
  },
  {
   "cell_type": "code",
   "execution_count": 9,
   "metadata": {
    "collapsed": false
   },
   "outputs": [
    {
     "data": {
      "text/plain": [
       "Index(['Unnamed: 0', 'Date', 'Symbol', 'Open', 'High', 'Low', 'Close',\n",
       "       'Volume', 'Market Cap'],\n",
       "      dtype='object')"
      ]
     },
     "execution_count": 9,
     "metadata": {},
     "output_type": "execute_result"
    }
   ],
   "source": [
    "df2.columns"
   ]
  },
  {
   "cell_type": "code",
   "execution_count": 10,
   "metadata": {
    "collapsed": false
   },
   "outputs": [
    {
     "data": {
      "text/html": [
       "<div>\n",
       "<style scoped>\n",
       "    .dataframe tbody tr th:only-of-type {\n",
       "        vertical-align: middle;\n",
       "    }\n",
       "\n",
       "    .dataframe tbody tr th {\n",
       "        vertical-align: top;\n",
       "    }\n",
       "\n",
       "    .dataframe thead th {\n",
       "        text-align: right;\n",
       "    }\n",
       "</style>\n",
       "<table border=\"1\" class=\"dataframe\">\n",
       "  <thead>\n",
       "    <tr style=\"text-align: right;\">\n",
       "      <th></th>\n",
       "      <th>Unnamed: 0</th>\n",
       "      <th>Symbol</th>\n",
       "      <th>Open</th>\n",
       "      <th>High</th>\n",
       "      <th>Low</th>\n",
       "      <th>Close</th>\n",
       "      <th>Volume</th>\n",
       "      <th>Market Cap</th>\n",
       "    </tr>\n",
       "    <tr>\n",
       "      <th>Date</th>\n",
       "      <th></th>\n",
       "      <th></th>\n",
       "      <th></th>\n",
       "      <th></th>\n",
       "      <th></th>\n",
       "      <th></th>\n",
       "      <th></th>\n",
       "      <th></th>\n",
       "    </tr>\n",
       "  </thead>\n",
       "  <tbody>\n",
       "    <tr>\n",
       "      <th>2013-04-28</th>\n",
       "      <td>0</td>\n",
       "      <td>BTC</td>\n",
       "      <td>135.30</td>\n",
       "      <td>135.98</td>\n",
       "      <td>132.10</td>\n",
       "      <td>134.21</td>\n",
       "      <td>NaN</td>\n",
       "      <td>1.500520e+09</td>\n",
       "    </tr>\n",
       "    <tr>\n",
       "      <th>2013-04-29</th>\n",
       "      <td>1</td>\n",
       "      <td>BTC</td>\n",
       "      <td>134.44</td>\n",
       "      <td>147.49</td>\n",
       "      <td>134.00</td>\n",
       "      <td>144.54</td>\n",
       "      <td>NaN</td>\n",
       "      <td>1.491160e+09</td>\n",
       "    </tr>\n",
       "    <tr>\n",
       "      <th>2013-04-30</th>\n",
       "      <td>2</td>\n",
       "      <td>BTC</td>\n",
       "      <td>144.00</td>\n",
       "      <td>146.93</td>\n",
       "      <td>134.05</td>\n",
       "      <td>139.00</td>\n",
       "      <td>NaN</td>\n",
       "      <td>1.597780e+09</td>\n",
       "    </tr>\n",
       "    <tr>\n",
       "      <th>2013-05-01</th>\n",
       "      <td>3</td>\n",
       "      <td>BTC</td>\n",
       "      <td>139.00</td>\n",
       "      <td>139.89</td>\n",
       "      <td>107.72</td>\n",
       "      <td>116.99</td>\n",
       "      <td>NaN</td>\n",
       "      <td>1.542820e+09</td>\n",
       "    </tr>\n",
       "    <tr>\n",
       "      <th>2013-05-02</th>\n",
       "      <td>4</td>\n",
       "      <td>BTC</td>\n",
       "      <td>116.38</td>\n",
       "      <td>125.60</td>\n",
       "      <td>92.28</td>\n",
       "      <td>105.21</td>\n",
       "      <td>NaN</td>\n",
       "      <td>1.292190e+09</td>\n",
       "    </tr>\n",
       "  </tbody>\n",
       "</table>\n",
       "</div>"
      ],
      "text/plain": [
       "            Unnamed: 0 Symbol    Open    High     Low   Close  Volume  \\\n",
       "Date                                                                    \n",
       "2013-04-28           0    BTC  135.30  135.98  132.10  134.21     NaN   \n",
       "2013-04-29           1    BTC  134.44  147.49  134.00  144.54     NaN   \n",
       "2013-04-30           2    BTC  144.00  146.93  134.05  139.00     NaN   \n",
       "2013-05-01           3    BTC  139.00  139.89  107.72  116.99     NaN   \n",
       "2013-05-02           4    BTC  116.38  125.60   92.28  105.21     NaN   \n",
       "\n",
       "              Market Cap  \n",
       "Date                      \n",
       "2013-04-28  1.500520e+09  \n",
       "2013-04-29  1.491160e+09  \n",
       "2013-04-30  1.597780e+09  \n",
       "2013-05-01  1.542820e+09  \n",
       "2013-05-02  1.292190e+09  "
      ]
     },
     "execution_count": 10,
     "metadata": {},
     "output_type": "execute_result"
    }
   ],
   "source": [
    "df3 = df2[df2['Symbol']=='BTC']\n",
    "df4 = df3.set_index('Date')\n",
    "df4.head()"
   ]
  },
  {
   "cell_type": "code",
   "execution_count": 11,
   "metadata": {
    "collapsed": true
   },
   "outputs": [],
   "source": [
    "df5 = df4['Close']"
   ]
  },
  {
   "cell_type": "code",
   "execution_count": 12,
   "metadata": {
    "collapsed": false
   },
   "outputs": [
    {
     "data": {
      "text/plain": [
       "Date\n",
       "2013-04-28    134.21\n",
       "2013-04-29    144.54\n",
       "2013-04-30    139.00\n",
       "2013-05-01    116.99\n",
       "2013-05-02    105.21\n",
       "Name: Close, dtype: float64"
      ]
     },
     "execution_count": 12,
     "metadata": {},
     "output_type": "execute_result"
    }
   ],
   "source": [
    "df5.head()"
   ]
  },
  {
   "cell_type": "markdown",
   "metadata": {},
   "source": [
    "# Visualization of Bitcoin Price History"
   ]
  },
  {
   "cell_type": "code",
   "execution_count": 13,
   "metadata": {
    "collapsed": false
   },
   "outputs": [
    {
     "name": "stdout",
     "output_type": "stream",
     "text": [
      "Date\n",
      "2013-04-28    134.21\n",
      "2013-04-29    144.54\n",
      "2013-04-30    139.00\n",
      "2013-05-01    116.99\n",
      "2013-05-02    105.21\n",
      "Name: Close, dtype: float64\n"
     ]
    },
    {
     "data": {
      "image/png": "[encoded data removed]",
      "text/plain": [
       "<matplotlib.figure.Figure at 0x11b105ac8>"
      ]
     },
     "metadata": {},
     "output_type": "display_data"
    }
   ],
   "source": [
    "from matplotlib import pyplot\n",
    "series = df5\n",
    "print(series.head())\n",
    "series.plot()\n",
    "pyplot.show()"
   ]
  },
  {
   "cell_type": "markdown",
   "metadata": {},
   "source": [
    "# Ethereum Investment Strategy (by Moving Averages)\n",
    "#### We will have 3 basic states/rules:\n",
    "\n",
    "1) Buy Signal (go long) – the 20d moving average is for the first time X points above the 40d tend.\n",
    "\n",
    "2) Park in Cash – no position.\n",
    "\n",
    "3) Sell Signal (go short) – the 20d moving average is for the first time X points below the 40d trend.\n",
    "\n",
    "> The first step in creating these signals is to add a new column to the DataFrame which is just the difference between the two moving averages:"
   ]
  },
  {
   "cell_type": "code",
   "execution_count": 14,
   "metadata": {
    "collapsed": false
   },
   "outputs": [
    {
     "name": "stderr",
     "output_type": "stream",
     "text": [
      "/Users/soonleqi/anaconda/lib/python3.6/site-packages/ipykernel/__main__.py:2: SettingWithCopyWarning:\n",
      "\n",
      "\n",
      "A value is trying to be set on a copy of a slice from a DataFrame.\n",
      "Try using .loc[row_indexer,col_indexer] = value instead\n",
      "\n",
      "See the caveats in the documentation: http://pandas.pydata.org/pandas-docs/stable/indexing.html#indexing-view-versus-copy\n",
      "\n",
      "/Users/soonleqi/anaconda/lib/python3.6/site-packages/ipykernel/__main__.py:4: SettingWithCopyWarning:\n",
      "\n",
      "\n",
      "A value is trying to be set on a copy of a slice from a DataFrame.\n",
      "Try using .loc[row_indexer,col_indexer] = value instead\n",
      "\n",
      "See the caveats in the documentation: http://pandas.pydata.org/pandas-docs/stable/indexing.html#indexing-view-versus-copy\n",
      "\n"
     ]
    },
    {
     "data": {
      "text/html": [
       "<div>\n",
       "<style scoped>\n",
       "    .dataframe tbody tr th:only-of-type {\n",
       "        vertical-align: middle;\n",
       "    }\n",
       "\n",
       "    .dataframe tbody tr th {\n",
       "        vertical-align: top;\n",
       "    }\n",
       "\n",
       "    .dataframe thead th {\n",
       "        text-align: right;\n",
       "    }\n",
       "</style>\n",
       "<table border=\"1\" class=\"dataframe\">\n",
       "  <thead>\n",
       "    <tr style=\"text-align: right;\">\n",
       "      <th></th>\n",
       "      <th>Unnamed: 0</th>\n",
       "      <th>Date</th>\n",
       "      <th>Symbol</th>\n",
       "      <th>Open</th>\n",
       "      <th>High</th>\n",
       "      <th>Low</th>\n",
       "      <th>Close</th>\n",
       "      <th>Volume</th>\n",
       "      <th>Market Cap</th>\n",
       "      <th>20d</th>\n",
       "      <th>40d</th>\n",
       "    </tr>\n",
       "  </thead>\n",
       "  <tbody>\n",
       "    <tr>\n",
       "      <th>561294</th>\n",
       "      <td>189</td>\n",
       "      <td>2018-05-29</td>\n",
       "      <td>ZZC</td>\n",
       "      <td>0.097595</td>\n",
       "      <td>0.101948</td>\n",
       "      <td>0.082738</td>\n",
       "      <td>0.083027</td>\n",
       "      <td>590.0</td>\n",
       "      <td>189967.0</td>\n",
       "      <td>0.14</td>\n",
       "      <td>0.13</td>\n",
       "    </tr>\n",
       "    <tr>\n",
       "      <th>561295</th>\n",
       "      <td>190</td>\n",
       "      <td>2018-05-30</td>\n",
       "      <td>ZZC</td>\n",
       "      <td>0.083082</td>\n",
       "      <td>0.118589</td>\n",
       "      <td>0.056165</td>\n",
       "      <td>0.082957</td>\n",
       "      <td>263.0</td>\n",
       "      <td>161719.0</td>\n",
       "      <td>0.14</td>\n",
       "      <td>0.13</td>\n",
       "    </tr>\n",
       "    <tr>\n",
       "      <th>561296</th>\n",
       "      <td>191</td>\n",
       "      <td>2018-05-31</td>\n",
       "      <td>ZZC</td>\n",
       "      <td>0.082941</td>\n",
       "      <td>0.123240</td>\n",
       "      <td>0.082536</td>\n",
       "      <td>0.121377</td>\n",
       "      <td>52.0</td>\n",
       "      <td>161444.0</td>\n",
       "      <td>0.14</td>\n",
       "      <td>0.13</td>\n",
       "    </tr>\n",
       "    <tr>\n",
       "      <th>561297</th>\n",
       "      <td>192</td>\n",
       "      <td>2018-06-01</td>\n",
       "      <td>ZZC</td>\n",
       "      <td>0.071372</td>\n",
       "      <td>0.102548</td>\n",
       "      <td>0.071372</td>\n",
       "      <td>0.100614</td>\n",
       "      <td>47.0</td>\n",
       "      <td>138924.0</td>\n",
       "      <td>0.14</td>\n",
       "      <td>0.13</td>\n",
       "    </tr>\n",
       "    <tr>\n",
       "      <th>561298</th>\n",
       "      <td>193</td>\n",
       "      <td>2018-06-02</td>\n",
       "      <td>ZZC</td>\n",
       "      <td>0.100570</td>\n",
       "      <td>0.100657</td>\n",
       "      <td>0.059969</td>\n",
       "      <td>0.089404</td>\n",
       "      <td>63.0</td>\n",
       "      <td>195759.0</td>\n",
       "      <td>0.14</td>\n",
       "      <td>0.13</td>\n",
       "    </tr>\n",
       "  </tbody>\n",
       "</table>\n",
       "</div>"
      ],
      "text/plain": [
       "        Unnamed: 0        Date Symbol      Open      High       Low     Close  \\\n",
       "561294         189  2018-05-29    ZZC  0.097595  0.101948  0.082738  0.083027   \n",
       "561295         190  2018-05-30    ZZC  0.083082  0.118589  0.056165  0.082957   \n",
       "561296         191  2018-05-31    ZZC  0.082941  0.123240  0.082536  0.121377   \n",
       "561297         192  2018-06-01    ZZC  0.071372  0.102548  0.071372  0.100614   \n",
       "561298         193  2018-06-02    ZZC  0.100570  0.100657  0.059969  0.089404   \n",
       "\n",
       "        Volume  Market Cap   20d   40d  \n",
       "561294   590.0    189967.0  0.14  0.13  \n",
       "561295   263.0    161719.0  0.14  0.13  \n",
       "561296    52.0    161444.0  0.14  0.13  \n",
       "561297    47.0    138924.0  0.14  0.13  \n",
       "561298    63.0    195759.0  0.14  0.13  "
      ]
     },
     "execution_count": 14,
     "metadata": {},
     "output_type": "execute_result"
    }
   ],
   "source": [
    "# 20 days Moving average\n",
    "df2['20d'] = np.round(df2['Close'].rolling(window=20).mean(),2)\n",
    "# 40 days Moving average\n",
    "df2['40d'] = np.round(df2['Close'].rolling(window=40).mean(),2)\n",
    "df2.tail()"
   ]
  },
  {
   "cell_type": "code",
   "execution_count": 15,
   "metadata": {
    "collapsed": false
   },
   "outputs": [
    {
     "name": "stderr",
     "output_type": "stream",
     "text": [
      "/Users/soonleqi/anaconda/lib/python3.6/site-packages/ipykernel/__main__.py:3: SettingWithCopyWarning:\n",
      "\n",
      "\n",
      "A value is trying to be set on a copy of a slice from a DataFrame.\n",
      "Try using .loc[row_indexer,col_indexer] = value instead\n",
      "\n",
      "See the caveats in the documentation: http://pandas.pydata.org/pandas-docs/stable/indexing.html#indexing-view-versus-copy\n",
      "\n"
     ]
    },
    {
     "data": {
      "text/plain": [
       "<matplotlib.legend.Legend at 0x129c9b3c8>"
      ]
     },
     "execution_count": 15,
     "metadata": {},
     "output_type": "execute_result"
    },
    {
     "data": {
      "image/png": "[encoded data removed]",
      "text/plain": [
       "<matplotlib.figure.Figure at 0x129c12ac8>"
      ]
     },
     "metadata": {},
     "output_type": "display_data"
    }
   ],
   "source": [
    "import matplotlib.pyplot as plt\n",
    "df3 = df2[df2['Symbol']=='ETH']\n",
    "df3['DateTime'] = pd.to_datetime(df3['Date'])\n",
    "plt.xticks(rotation=45)\n",
    "plt.plot(df3['DateTime'],df3[['Close','20d','40d']])\n",
    "plt.legend(['Close','20d','40d'])"
   ]
  },
  {
   "cell_type": "code",
   "execution_count": 18,
   "metadata": {
    "collapsed": false
   },
   "outputs": [
    {
     "name": "stderr",
     "output_type": "stream",
     "text": [
      "/Users/soonleqi/anaconda/lib/python3.6/site-packages/ipykernel/__main__.py:3: SettingWithCopyWarning:\n",
      "\n",
      "\n",
      "A value is trying to be set on a copy of a slice from a DataFrame.\n",
      "Try using .loc[row_indexer,col_indexer] = value instead\n",
      "\n",
      "See the caveats in the documentation: http://pandas.pydata.org/pandas-docs/stable/indexing.html#indexing-view-versus-copy\n",
      "\n"
     ]
    },
    {
     "data": {
      "text/plain": [
       "<matplotlib.legend.Legend at 0x11a343860>"
      ]
     },
     "execution_count": 18,
     "metadata": {},
     "output_type": "execute_result"
    },
    {
     "data": {
      "image/png": "[encoded data removed]",
      "text/plain": [
       "<matplotlib.figure.Figure at 0x119c56588>"
      ]
     },
     "metadata": {},
     "output_type": "display_data"
    }
   ],
   "source": [
    "import matplotlib.pyplot as plt\n",
    "df3 = df2[df2['Symbol']=='ETH']\n",
    "df3['DateTime'] = pd.to_datetime(df3['Date'])\n",
    "plt.xticks(rotation=45)\n",
    "plt.plot(df3['DateTime'],df3[['Close','20d','40d']])\n",
    "plt.legend(['Close','20d','40d'])"
   ]
  },
  {
   "cell_type": "code",
   "execution_count": 19,
   "metadata": {
    "collapsed": false
   },
   "outputs": [
    {
     "name": "stderr",
     "output_type": "stream",
     "text": [
      "/Users/soonleqi/anaconda/lib/python3.6/site-packages/ipykernel/__main__.py:1: SettingWithCopyWarning:\n",
      "\n",
      "\n",
      "A value is trying to be set on a copy of a slice from a DataFrame.\n",
      "Try using .loc[row_indexer,col_indexer] = value instead\n",
      "\n",
      "See the caveats in the documentation: http://pandas.pydata.org/pandas-docs/stable/indexing.html#indexing-view-versus-copy\n",
      "\n",
      "/Users/soonleqi/anaconda/lib/python3.6/site-packages/ipykernel/__main__.py:3: SettingWithCopyWarning:\n",
      "\n",
      "\n",
      "A value is trying to be set on a copy of a slice from a DataFrame.\n",
      "Try using .loc[row_indexer,col_indexer] = value instead\n",
      "\n",
      "See the caveats in the documentation: http://pandas.pydata.org/pandas-docs/stable/indexing.html#indexing-view-versus-copy\n",
      "\n",
      "/Users/soonleqi/anaconda/lib/python3.6/site-packages/ipykernel/__main__.py:4: SettingWithCopyWarning:\n",
      "\n",
      "\n",
      "A value is trying to be set on a copy of a slice from a DataFrame.\n",
      "Try using .loc[row_indexer,col_indexer] = value instead\n",
      "\n",
      "See the caveats in the documentation: http://pandas.pydata.org/pandas-docs/stable/indexing.html#indexing-view-versus-copy\n",
      "\n"
     ]
    },
    {
     "data": {
      "text/plain": [
       "-1    853\n",
       " 1    177\n",
       "Name: Stance, dtype: int64"
      ]
     },
     "execution_count": 19,
     "metadata": {},
     "output_type": "execute_result"
    }
   ],
   "source": [
    "df3['20-40'] = df3['20d'] - df3['40d']\n",
    "X= 20\n",
    "df3['Stance'] = np.where(df3['20-40'] > X, 1, 0)\n",
    "df3['Stance'] = np.where(df3['20-40'] < X, -1, df3['Stance'])\n",
    "df3['Stance'].value_counts()"
   ]
  },
  {
   "cell_type": "markdown",
   "metadata": {},
   "source": [
    "# Interpretation of result\n",
    "\n",
    "The above results shows that during the time period we have chosen to backtest, on 855 trading dates the 20d moving average lies more than 20 points below the 40d moving average, and on 177 the 20d moving average lies more than 20 points above the 40d moving average."
   ]
  },
  {
   "cell_type": "code",
   "execution_count": 20,
   "metadata": {
    "collapsed": false
   },
   "outputs": [
    {
     "data": {
      "text/plain": [
       "<matplotlib.axes._subplots.AxesSubplot at 0x11a174fd0>"
      ]
     },
     "execution_count": 20,
     "metadata": {},
     "output_type": "execute_result"
    },
    {
     "data": {
      "image/png": "[encoded data removed]",
      "text/plain": [
       "<matplotlib.figure.Figure at 0x11a389d68>"
      ]
     },
     "metadata": {},
     "output_type": "display_data"
    }
   ],
   "source": [
    "df3['Stance'].plot(lw=1.5,ylim=[-1.1,1.1])"
   ]
  },
  {
   "cell_type": "markdown",
   "metadata": {},
   "source": [
    "Everything is now in place to test our investment strategy based upon the signals we have generated. In this instance we assume for simplicity that ETH can be bought or sold directly and that there are no transaction costs.\n",
    "\n",
    "So in this model, our investor is either long the market, short the market or flat – this allows us to work with market returns and simply multiply the day’s market return by -1 if he is short, 1 if he is long and 0 if he is flat the previous day."
   ]
  },
  {
   "cell_type": "code",
   "execution_count": 21,
   "metadata": {
    "collapsed": false
   },
   "outputs": [
    {
     "data": {
      "text/html": [
       "<div>\n",
       "<style scoped>\n",
       "    .dataframe tbody tr th:only-of-type {\n",
       "        vertical-align: middle;\n",
       "    }\n",
       "\n",
       "    .dataframe tbody tr th {\n",
       "        vertical-align: top;\n",
       "    }\n",
       "\n",
       "    .dataframe thead th {\n",
       "        text-align: right;\n",
       "    }\n",
       "</style>\n",
       "<table border=\"1\" class=\"dataframe\">\n",
       "  <thead>\n",
       "    <tr style=\"text-align: right;\">\n",
       "      <th></th>\n",
       "      <th>Unnamed: 0</th>\n",
       "      <th>Date</th>\n",
       "      <th>Symbol</th>\n",
       "      <th>Open</th>\n",
       "      <th>High</th>\n",
       "      <th>Low</th>\n",
       "      <th>Close</th>\n",
       "      <th>Volume</th>\n",
       "      <th>Market Cap</th>\n",
       "      <th>20d</th>\n",
       "      <th>40d</th>\n",
       "      <th>DateTime</th>\n",
       "      <th>20-40</th>\n",
       "      <th>Stance</th>\n",
       "    </tr>\n",
       "  </thead>\n",
       "  <tbody>\n",
       "    <tr>\n",
       "      <th>181763</th>\n",
       "      <td>1026</td>\n",
       "      <td>2018-05-29</td>\n",
       "      <td>ETH</td>\n",
       "      <td>516.15</td>\n",
       "      <td>572.26</td>\n",
       "      <td>516.15</td>\n",
       "      <td>565.39</td>\n",
       "      <td>2.330820e+09</td>\n",
       "      <td>5.147440e+10</td>\n",
       "      <td>655.61</td>\n",
       "      <td>676.67</td>\n",
       "      <td>2018-05-29</td>\n",
       "      <td>-21.06</td>\n",
       "      <td>-1</td>\n",
       "    </tr>\n",
       "    <tr>\n",
       "      <th>181764</th>\n",
       "      <td>1027</td>\n",
       "      <td>2018-05-30</td>\n",
       "      <td>ETH</td>\n",
       "      <td>566.83</td>\n",
       "      <td>583.14</td>\n",
       "      <td>545.43</td>\n",
       "      <td>559.59</td>\n",
       "      <td>2.053970e+09</td>\n",
       "      <td>5.654050e+10</td>\n",
       "      <td>647.23</td>\n",
       "      <td>675.27</td>\n",
       "      <td>2018-05-30</td>\n",
       "      <td>-28.04</td>\n",
       "      <td>-1</td>\n",
       "    </tr>\n",
       "    <tr>\n",
       "      <th>181765</th>\n",
       "      <td>1028</td>\n",
       "      <td>2018-05-31</td>\n",
       "      <td>ETH</td>\n",
       "      <td>558.50</td>\n",
       "      <td>585.54</td>\n",
       "      <td>557.07</td>\n",
       "      <td>577.64</td>\n",
       "      <td>1.985040e+09</td>\n",
       "      <td>5.572080e+10</td>\n",
       "      <td>642.13</td>\n",
       "      <td>674.57</td>\n",
       "      <td>2018-05-31</td>\n",
       "      <td>-32.44</td>\n",
       "      <td>-1</td>\n",
       "    </tr>\n",
       "    <tr>\n",
       "      <th>181766</th>\n",
       "      <td>1029</td>\n",
       "      <td>2018-06-01</td>\n",
       "      <td>ETH</td>\n",
       "      <td>578.67</td>\n",
       "      <td>589.09</td>\n",
       "      <td>567.66</td>\n",
       "      <td>580.04</td>\n",
       "      <td>1.945890e+09</td>\n",
       "      <td>5.774570e+10</td>\n",
       "      <td>636.83</td>\n",
       "      <td>673.53</td>\n",
       "      <td>2018-06-01</td>\n",
       "      <td>-36.70</td>\n",
       "      <td>-1</td>\n",
       "    </tr>\n",
       "    <tr>\n",
       "      <th>181767</th>\n",
       "      <td>1030</td>\n",
       "      <td>2018-06-02</td>\n",
       "      <td>ETH</td>\n",
       "      <td>580.43</td>\n",
       "      <td>597.08</td>\n",
       "      <td>577.32</td>\n",
       "      <td>591.81</td>\n",
       "      <td>1.880390e+09</td>\n",
       "      <td>5.793290e+10</td>\n",
       "      <td>629.74</td>\n",
       "      <td>672.26</td>\n",
       "      <td>2018-06-02</td>\n",
       "      <td>-42.52</td>\n",
       "      <td>-1</td>\n",
       "    </tr>\n",
       "  </tbody>\n",
       "</table>\n",
       "</div>"
      ],
      "text/plain": [
       "        Unnamed: 0        Date Symbol    Open    High     Low   Close  \\\n",
       "181763        1026  2018-05-29    ETH  516.15  572.26  516.15  565.39   \n",
       "181764        1027  2018-05-30    ETH  566.83  583.14  545.43  559.59   \n",
       "181765        1028  2018-05-31    ETH  558.50  585.54  557.07  577.64   \n",
       "181766        1029  2018-06-01    ETH  578.67  589.09  567.66  580.04   \n",
       "181767        1030  2018-06-02    ETH  580.43  597.08  577.32  591.81   \n",
       "\n",
       "              Volume    Market Cap     20d     40d   DateTime  20-40  Stance  \n",
       "181763  2.330820e+09  5.147440e+10  655.61  676.67 2018-05-29 -21.06      -1  \n",
       "181764  2.053970e+09  5.654050e+10  647.23  675.27 2018-05-30 -28.04      -1  \n",
       "181765  1.985040e+09  5.572080e+10  642.13  674.57 2018-05-31 -32.44      -1  \n",
       "181766  1.945890e+09  5.774570e+10  636.83  673.53 2018-06-01 -36.70      -1  \n",
       "181767  1.880390e+09  5.793290e+10  629.74  672.26 2018-06-02 -42.52      -1  "
      ]
     },
     "execution_count": 21,
     "metadata": {},
     "output_type": "execute_result"
    }
   ],
   "source": [
    "df4_for_later_use = df3\n",
    "df3.tail()"
   ]
  },
  {
   "cell_type": "code",
   "execution_count": 22,
   "metadata": {
    "collapsed": false
   },
   "outputs": [
    {
     "name": "stderr",
     "output_type": "stream",
     "text": [
      "/Users/soonleqi/anaconda/lib/python3.6/site-packages/ipykernel/__main__.py:1: SettingWithCopyWarning:\n",
      "\n",
      "\n",
      "A value is trying to be set on a copy of a slice from a DataFrame.\n",
      "Try using .loc[row_indexer,col_indexer] = value instead\n",
      "\n",
      "See the caveats in the documentation: http://pandas.pydata.org/pandas-docs/stable/indexing.html#indexing-view-versus-copy\n",
      "\n",
      "/Users/soonleqi/anaconda/lib/python3.6/site-packages/ipykernel/__main__.py:2: SettingWithCopyWarning:\n",
      "\n",
      "\n",
      "A value is trying to be set on a copy of a slice from a DataFrame.\n",
      "Try using .loc[row_indexer,col_indexer] = value instead\n",
      "\n",
      "See the caveats in the documentation: http://pandas.pydata.org/pandas-docs/stable/indexing.html#indexing-view-versus-copy\n",
      "\n"
     ]
    }
   ],
   "source": [
    "df3['Market Returns'] = np.log(df3['Close'] / df3['Close'].shift(1))\n",
    "df3['Strategy'] = df3['Market Returns'] * df3['Stance'].shift(1)"
   ]
  },
  {
   "cell_type": "code",
   "execution_count": 23,
   "metadata": {
    "collapsed": false
   },
   "outputs": [
    {
     "data": {
      "text/plain": [
       "<matplotlib.legend.Legend at 0x11a4407b8>"
      ]
     },
     "execution_count": 23,
     "metadata": {},
     "output_type": "execute_result"
    },
    {
     "data": {
      "image/png": "[encoded data removed]",
      "text/plain": [
       "<matplotlib.figure.Figure at 0x11a42ff60>"
      ]
     },
     "metadata": {},
     "output_type": "display_data"
    }
   ],
   "source": [
    "plt.plot(df3['DateTime'],df3[['Market Returns','Strategy']].cumsum())\n",
    "plt.xticks(rotation=45)\n",
    "plt.legend(['Market Returns','Strategy'])"
   ]
  },
  {
   "cell_type": "markdown",
   "metadata": {},
   "source": [
    "# Analysis of results\n",
    "\n",
    "So we can see that although the strategy seems to perform rather well during market downturns, it doesn’t do so well during market rallies or when it is just trending upwards.\n",
    "\n",
    "Over the test period it barely outperforms a simple buy and hold strategy, hardly enough to call it a “successful” strategy. THIS STRATEGY IS USELESS (jk please read on...)\n",
    "\n",
    "Maybe we shouldn't conclude so soon. There was a huge rally due to the cryptocurrency craze in 2017. Let's examine the strategy on Feb - May 2018 after the bitcoin bubble burst to see if the analysis paints a different picture."
   ]
  },
  {
   "cell_type": "markdown",
   "metadata": {},
   "source": [
    "## Let us try zooming into the time horizon Feb - May 2018"
   ]
  },
  {
   "cell_type": "code",
   "execution_count": 24,
   "metadata": {
    "collapsed": false
   },
   "outputs": [
    {
     "data": {
      "text/html": [
       "<div>\n",
       "<style scoped>\n",
       "    .dataframe tbody tr th:only-of-type {\n",
       "        vertical-align: middle;\n",
       "    }\n",
       "\n",
       "    .dataframe tbody tr th {\n",
       "        vertical-align: top;\n",
       "    }\n",
       "\n",
       "    .dataframe thead th {\n",
       "        text-align: right;\n",
       "    }\n",
       "</style>\n",
       "<table border=\"1\" class=\"dataframe\">\n",
       "  <thead>\n",
       "    <tr style=\"text-align: right;\">\n",
       "      <th></th>\n",
       "      <th>Unnamed: 0</th>\n",
       "      <th>Date</th>\n",
       "      <th>Symbol</th>\n",
       "      <th>Open</th>\n",
       "      <th>High</th>\n",
       "      <th>Low</th>\n",
       "      <th>Close</th>\n",
       "      <th>Volume</th>\n",
       "      <th>Market Cap</th>\n",
       "      <th>20d</th>\n",
       "      <th>40d</th>\n",
       "      <th>DateTime</th>\n",
       "      <th>20-40</th>\n",
       "      <th>Stance</th>\n",
       "      <th>Market Returns</th>\n",
       "      <th>Strategy</th>\n",
       "    </tr>\n",
       "  </thead>\n",
       "  <tbody>\n",
       "    <tr>\n",
       "      <th>181647</th>\n",
       "      <td>910</td>\n",
       "      <td>2018-02-02</td>\n",
       "      <td>ETH</td>\n",
       "      <td>1035.77</td>\n",
       "      <td>1035.77</td>\n",
       "      <td>757.98</td>\n",
       "      <td>915.78</td>\n",
       "      <td>6.713290e+09</td>\n",
       "      <td>1.008360e+11</td>\n",
       "      <td>1092.18</td>\n",
       "      <td>1035.82</td>\n",
       "      <td>2018-02-02</td>\n",
       "      <td>56.36</td>\n",
       "      <td>1</td>\n",
       "      <td>-0.124109</td>\n",
       "      <td>-0.124109</td>\n",
       "    </tr>\n",
       "    <tr>\n",
       "      <th>181648</th>\n",
       "      <td>911</td>\n",
       "      <td>2018-02-03</td>\n",
       "      <td>ETH</td>\n",
       "      <td>919.21</td>\n",
       "      <td>991.94</td>\n",
       "      <td>847.69</td>\n",
       "      <td>964.02</td>\n",
       "      <td>3.243480e+09</td>\n",
       "      <td>8.950760e+10</td>\n",
       "      <td>1072.05</td>\n",
       "      <td>1040.77</td>\n",
       "      <td>2018-02-03</td>\n",
       "      <td>31.28</td>\n",
       "      <td>1</td>\n",
       "      <td>0.051336</td>\n",
       "      <td>0.051336</td>\n",
       "    </tr>\n",
       "    <tr>\n",
       "      <th>181649</th>\n",
       "      <td>912</td>\n",
       "      <td>2018-02-04</td>\n",
       "      <td>ETH</td>\n",
       "      <td>964.67</td>\n",
       "      <td>969.03</td>\n",
       "      <td>805.06</td>\n",
       "      <td>834.68</td>\n",
       "      <td>2.997090e+09</td>\n",
       "      <td>9.395340e+10</td>\n",
       "      <td>1049.18</td>\n",
       "      <td>1042.29</td>\n",
       "      <td>2018-02-04</td>\n",
       "      <td>6.89</td>\n",
       "      <td>-1</td>\n",
       "      <td>-0.144064</td>\n",
       "      <td>-0.144064</td>\n",
       "    </tr>\n",
       "    <tr>\n",
       "      <th>181650</th>\n",
       "      <td>913</td>\n",
       "      <td>2018-02-05</td>\n",
       "      <td>ETH</td>\n",
       "      <td>834.96</td>\n",
       "      <td>856.65</td>\n",
       "      <td>644.60</td>\n",
       "      <td>697.95</td>\n",
       "      <td>4.269530e+09</td>\n",
       "      <td>8.133740e+10</td>\n",
       "      <td>1031.40</td>\n",
       "      <td>1040.67</td>\n",
       "      <td>2018-02-05</td>\n",
       "      <td>-9.27</td>\n",
       "      <td>-1</td>\n",
       "      <td>-0.178901</td>\n",
       "      <td>0.178901</td>\n",
       "    </tr>\n",
       "    <tr>\n",
       "      <th>181651</th>\n",
       "      <td>914</td>\n",
       "      <td>2018-02-06</td>\n",
       "      <td>ETH</td>\n",
       "      <td>707.74</td>\n",
       "      <td>796.44</td>\n",
       "      <td>574.42</td>\n",
       "      <td>793.12</td>\n",
       "      <td>6.518270e+09</td>\n",
       "      <td>6.895870e+10</td>\n",
       "      <td>1020.34</td>\n",
       "      <td>1042.07</td>\n",
       "      <td>2018-02-06</td>\n",
       "      <td>-21.73</td>\n",
       "      <td>-1</td>\n",
       "      <td>0.127827</td>\n",
       "      <td>-0.127827</td>\n",
       "    </tr>\n",
       "  </tbody>\n",
       "</table>\n",
       "</div>"
      ],
      "text/plain": [
       "        Unnamed: 0        Date Symbol     Open     High     Low   Close  \\\n",
       "181647         910  2018-02-02    ETH  1035.77  1035.77  757.98  915.78   \n",
       "181648         911  2018-02-03    ETH   919.21   991.94  847.69  964.02   \n",
       "181649         912  2018-02-04    ETH   964.67   969.03  805.06  834.68   \n",
       "181650         913  2018-02-05    ETH   834.96   856.65  644.60  697.95   \n",
       "181651         914  2018-02-06    ETH   707.74   796.44  574.42  793.12   \n",
       "\n",
       "              Volume    Market Cap      20d      40d   DateTime  20-40  \\\n",
       "181647  6.713290e+09  1.008360e+11  1092.18  1035.82 2018-02-02  56.36   \n",
       "181648  3.243480e+09  8.950760e+10  1072.05  1040.77 2018-02-03  31.28   \n",
       "181649  2.997090e+09  9.395340e+10  1049.18  1042.29 2018-02-04   6.89   \n",
       "181650  4.269530e+09  8.133740e+10  1031.40  1040.67 2018-02-05  -9.27   \n",
       "181651  6.518270e+09  6.895870e+10  1020.34  1042.07 2018-02-06 -21.73   \n",
       "\n",
       "        Stance  Market Returns  Strategy  \n",
       "181647       1       -0.124109 -0.124109  \n",
       "181648       1        0.051336  0.051336  \n",
       "181649      -1       -0.144064 -0.144064  \n",
       "181650      -1       -0.178901  0.178901  \n",
       "181651      -1        0.127827 -0.127827  "
      ]
     },
     "execution_count": 24,
     "metadata": {},
     "output_type": "execute_result"
    }
   ],
   "source": [
    "df5 = df4_for_later_use[(df4_for_later_use['Date'] > '2018-02-01') & (df4_for_later_use['Date'] < '2018-05-01')]\n",
    "df5.head()"
   ]
  },
  {
   "cell_type": "code",
   "execution_count": 25,
   "metadata": {
    "collapsed": false
   },
   "outputs": [
    {
     "data": {
      "text/plain": [
       "<matplotlib.legend.Legend at 0x12fabff60>"
      ]
     },
     "execution_count": 25,
     "metadata": {},
     "output_type": "execute_result"
    },
    {
     "data": {
      "image/png": "[encoded data removed]",
      "text/plain": [
       "<matplotlib.figure.Figure at 0x11a42fb38>"
      ]
     },
     "metadata": {},
     "output_type": "display_data"
    }
   ],
   "source": [
    "plt.plot(df5['DateTime'],df5[['Market Returns','Strategy']].cumsum())\n",
    "plt.xticks(rotation=45)\n",
    "plt.legend(['Market Returns','Strategy'])"
   ]
  },
  {
   "cell_type": "markdown",
   "metadata": {},
   "source": [
    "# Final Verdict\n",
    "There we go, the trading strategy actually shows huge potential when the markets are less bullish, huge gains would have been made within the last couple of months if this was actually implemented!\n",
    "\n",
    "And we are done! A moving average cross over strategy backtested in Python! :)"
   ]
  }
 ],
 "metadata": {
  "kernelspec": {
   "display_name": "Python 3",
   "language": "python",
   "name": "python3"
  },
  "language_info": {
   "codemirror_mode": {
    "name": "ipython",
    "version": 3
   },
   "file_extension": ".py",
   "mimetype": "text/x-python",
   "name": "python",
   "nbconvert_exporter": "python",
   "pygments_lexer": "ipython3",
   "version": "3.6.0"
  }
 },
 "nbformat": 4,
 "nbformat_minor": 2
}
